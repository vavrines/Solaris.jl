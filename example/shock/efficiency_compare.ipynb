{
 "cells": [
  {
   "cell_type": "code",
   "execution_count": 1,
   "metadata": {},
   "outputs": [
    {
     "name": "stderr",
     "output_type": "stream",
     "text": [
      "┌ Error: (compiled mode) evaluation error starting at /home/vavrines/.julia/packages/DistributionsAD/dKKOw/src/reversediff.jl:26\n",
      "│   mod = DistributionsAD.ReverseDiffX\n",
      "│   ex = begin\n",
      "    #= /home/vavrines/.julia/packages/DistributionsAD/dKKOw/src/reversediff.jl:26 =#\n",
      "    const RDBroadcasted{F, T} = Broadcasted{<:Any, <:Any, F, T}\n",
      "end\n",
      "│   exception = (ErrorException(\"invalid redefinition of constant RDBroadcasted\"), Union{Ptr{Nothing}, Base.InterpreterIP}[Ptr{Nothing} @0x00007f5f111b2def, Ptr{Nothing} @0x00007f5f11242ebe, Ptr{Nothing} @0x00007f5f11244898, Ptr{Nothing} @0x00007f5f112457a7, Base.InterpreterIP in top-level CodeInfo for DistributionsAD.ReverseDiffX at statement 15])\n",
      "└ @ Revise /home/vavrines/.julia/packages/Revise/BqeJF/src/lowered.jl:85\n"
     ]
    }
   ],
   "source": [
    "using Revise, OrdinaryDiffEq, Flux, DiffEqFlux, Optim\n",
    "using Plots, FileIO, JLD2, OffsetArrays, ProgressMeter, Kinetic"
   ]
  },
  {
   "cell_type": "code",
   "execution_count": 6,
   "metadata": {},
   "outputs": [
    {
     "data": {
      "text/plain": [
       "12"
      ]
     },
     "execution_count": 6,
     "metadata": {},
     "output_type": "execute_result"
    }
   ],
   "source": [
    "case = \"shock\"\n",
    "space = \"1d2f1v\"\n",
    "nSpecies = 1\n",
    "interpOrder = 1\n",
    "limiter = \"vanleer\"\n",
    "cfl = 0.7\n",
    "maxTime = 250.0\n",
    "x0 = -25.0\n",
    "x1 = 25.0\n",
    "nx = 80\n",
    "pMeshType = \"uniform\"\n",
    "nxg = 1\n",
    "umin = -10.0\n",
    "umax = 10.0\n",
    "nu = 48\n",
    "nug = 0\n",
    "vmin = -10.0\n",
    "vmax = 10.0\n",
    "nv = 28\n",
    "nvg = 0\n",
    "wmin = -10.0\n",
    "wmax = 10.0\n",
    "nw = 28\n",
    "nwg = 0\n",
    "vMeshType = \"rectangle\"\n",
    "knudsen = 1.0\n",
    "mach = 2.0\n",
    "prandtl = 0.6666667\n",
    "inK = 2\n",
    "omega = 0.5\n",
    "alphaRef = 1.0\n",
    "omegaRef = 0.5\n",
    "nm = 5\n",
    "tLen = 3\n",
    "nh = 12"
   ]
  },
  {
   "cell_type": "code",
   "execution_count": 7,
   "metadata": {},
   "outputs": [
    {
     "data": {
      "text/plain": [
       "0.0f0:0.01933109f0:0.03866218f0"
      ]
     },
     "execution_count": 7,
     "metadata": {},
     "output_type": "execute_result"
    }
   ],
   "source": [
    "γ = heat_capacity_ratio(inK, 1)\n",
    "set = Setup(case, space, nSpecies, interpOrder, limiter, cfl, maxTime)\n",
    "pSpace = PSpace1D(x0, x1, nx, pMeshType, nxg)\n",
    "μᵣ = ref_vhs_vis(knudsen, alphaRef, omegaRef)\n",
    "gas = GasProperty(knudsen, mach, prandtl, inK, γ, omega, alphaRef, omegaRef, μᵣ)\n",
    "vSpace = VSpace1D(umin, umax, nu, vMeshType)\n",
    "vSpace2D = VSpace2D(vmin, vmax, nv, wmin, wmax, nw, vMeshType)\n",
    "vSpace3D = VSpace3D(umin, umax, nu, vmin, vmax, nv, wmin, wmax, nw, vMeshType)\n",
    "wL, primL, hL, bL, bcL, wR, primR, hR, bR, bcR = ib_rh(mach, γ, vSpace.u, inK)\n",
    "ib = IB2F(wL, primL, hL, bL, bcL, wR, primR, hR, bR, bcR)\n",
    "ks = SolverSet(set, pSpace, vSpace, gas, ib, pwd())\n",
    "\n",
    "kn_bzm = hs_boltz_kn(ks.gas.μᵣ, 1.0)\n",
    "sos = sound_speed(ks.ib.primR, γ)\n",
    "tmax = (ks.vSpace.u1 + sos) / ks.pSpace.dx[1]\n",
    "dt = Float32(ks.set.cfl / tmax)\n",
    "tspan = (0.f0, dt)\n",
    "tran = range(tspan[1], tspan[2], length = tLen)"
   ]
  },
  {
   "cell_type": "code",
   "execution_count": 8,
   "metadata": {},
   "outputs": [],
   "source": [
    "ctr = OffsetArray{ControlVolume1D2F}(undef, eachindex(ks.pSpace.x))\n",
    "face = Array{Interface1D2F}(undef, ks.pSpace.nx + 1)\n",
    "for i in eachindex(ctr)\n",
    "    if i <= ks.pSpace.nx ÷ 2\n",
    "        ctr[i] = ControlVolume1D2F(\n",
    "            ks.pSpace.x[i],\n",
    "            ks.pSpace.dx[i],\n",
    "            Float32.(ks.ib.wL),\n",
    "            Float32.(ks.ib.primL),\n",
    "            Float32.(ks.ib.hL),\n",
    "            Float32.(ks.ib.bL),\n",
    "        )\n",
    "    else\n",
    "        ctr[i] = ControlVolume1D2F(\n",
    "            ks.pSpace.x[i],\n",
    "            ks.pSpace.dx[i],\n",
    "            Float32.(ks.ib.wR),\n",
    "            Float32.(ks.ib.primR),\n",
    "            Float32.(ks.ib.hR),\n",
    "            Float32.(ks.ib.bR),\n",
    "        )\n",
    "    end\n",
    "end\n",
    "for i = 1:ks.pSpace.nx+1\n",
    "    face[i] = Interface1D2F(ks.ib.wL, ks.ib.hL)\n",
    "end"
   ]
  },
  {
   "cell_type": "code",
   "execution_count": 9,
   "metadata": {},
   "outputs": [
    {
     "name": "stderr",
     "output_type": "stream",
     "text": [
      "\u001b[32mProgress: 100%|█████████████████████████████████████████| Time: 0:00:06\u001b[39m\n"
     ]
    }
   ],
   "source": [
    "sumRes = zeros(3)\n",
    "@showprogress for iter = 1:2000\n",
    "    Kinetic.evolve!(ks, ctr, face, dt)\n",
    "    Kinetic.update!(ks, ctr, face, dt, sumRes)\n",
    "end"
   ]
  },
  {
   "cell_type": "code",
   "execution_count": 10,
   "metadata": {},
   "outputs": [],
   "source": [
    "X = Array{Float32}(undef, ks.vSpace.nu * 2, ks.pSpace.nx)\n",
    "for i = 1:ks.pSpace.nx\n",
    "    X[1:nu, i] .= ctr[i].h\n",
    "    X[nu+1:end, i] .= ctr[i].b\n",
    "end"
   ]
  },
  {
   "cell_type": "code",
   "execution_count": 11,
   "metadata": {},
   "outputs": [],
   "source": [
    "function shakhov!(df, f, p, t)\n",
    "    H, B, tau = p\n",
    "    df[1:end÷2, :] .= (H .- f[1:end÷2, :]) ./ tau\n",
    "    df[end÷2+1:end, :] .= (B .- f[end÷2+1:end, :]) ./ tau\n",
    "end\n",
    "\n",
    "H = Array{Float32}(undef, nu, size(X, 2))\n",
    "B = Array{Float32}(undef, nu, size(X, 2))\n",
    "SH = Array{Float32}(undef, nu, size(X, 2))\n",
    "SB = Array{Float32}(undef, nu, size(X, 2))\n",
    "τ = Array{Float32}(undef, 1, size(X, 2))\n",
    "for i in axes(X, 2)\n",
    "    H[:, i] .= maxwellian(ks.vSpace.u, ctr[i].prim)\n",
    "    B[:, i] .= H[:, i] .* ks.gas.K ./ (2.0 .* ctr[i].prim[end])\n",
    "    \n",
    "    q = heat_flux(ctr[i].h, ctr[i].b, ctr[i].prim, ks.vSpace.u, ks.vSpace.weights)\n",
    "    H1, B1 = shakhov(ks.vSpace.u, H[:,i], B[:,i], q, ctr[i].prim, ks.gas.Pr, ks.gas.K)\n",
    "    SH[:,i] .= H[:,i] .+ H1\n",
    "    SB[:,i] .= B[:,i] .+ B1\n",
    "    \n",
    "    τ[1, i] = vhs_collision_time(ctr[i].prim, ks.gas.μᵣ, ks.gas.ω)\n",
    "end\n",
    "P = [SH, SB, τ]\n",
    "M = vcat(H, B)\n",
    "\n",
    "prob = ODEProblem(shakhov!, X, tspan, P)\n",
    "Y = solve(prob, Euler(), dt=dt) |> Array;"
   ]
  },
  {
   "cell_type": "code",
   "execution_count": 12,
   "metadata": {},
   "outputs": [
    {
     "name": "stderr",
     "output_type": "stream",
     "text": [
      "\u001b[32mloss: 8.03e-08: 100%|█████████████████████████████████████████| Time: 0:00:14\u001b[39m\n"
     ]
    },
    {
     "data": {
      "text/plain": [
       " * Status: success\n",
       "\n",
       " * Candidate solution\n",
       "    Final objective value:     8.028140e-08\n",
       "\n",
       " * Found with\n",
       "    Algorithm:     ADAM\n",
       "\n",
       " * Convergence measures\n",
       "    |x - x'|               = NaN ≰ 0.0e+00\n",
       "    |x - x'|/|x'|          = NaN ≰ 0.0e+00\n",
       "    |f(x) - f(x')|         = NaN ≰ 0.0e+00\n",
       "    |f(x) - f(x')|/|f(x')| = NaN ≰ 0.0e+00\n",
       "    |g(x)|                 = NaN ≰ 0.0e+00\n",
       "\n",
       " * Work counters\n",
       "    Seconds run:   52  (vs limit Inf)\n",
       "    Iterations:    200\n",
       "    f(x) calls:    200\n",
       "    ∇f(x) calls:   200\n"
      ]
     },
     "execution_count": 12,
     "metadata": {},
     "output_type": "execute_result"
    }
   ],
   "source": [
    "#--- universal differential equation ---#\n",
    "model_univ = FastChain(\n",
    "    FastDense(nu * 2, nu * 2 * nh, tanh),\n",
    "    #FastDense(nu * 2 * nh, nu * 2 * nh, tanh),\n",
    "    FastDense(nu * 2 * nh, nu * 2),\n",
    ")\n",
    "\n",
    "p_model = initial_params(model_univ)\n",
    "\n",
    "function dfdt(f, p, t)\n",
    "    h = f[1:nu, :]\n",
    "    b = f[nu+1:end, :]\n",
    "\n",
    "    dh = (H .- h) ./ τ .+ model_univ(f .- M, p)[1:nu, :]\n",
    "    db = (B .- b) ./ τ .+ model_univ(f .- M, p)[nu+1:end, :]\n",
    "\n",
    "    df = vcat(dh, db)\n",
    "end\n",
    "\n",
    "prob_ube = ODEProblem(dfdt, X, tspan, p_model)\n",
    "\n",
    "function loss(p)\n",
    "    #sol_ube = solve(prob_ube, Midpoint(), u0=X, p=p, saveat=tran)\n",
    "    sol_ube = solve(prob_ube, Euler(), u0=X, p=p, dt=dt)\n",
    "    loss = sum(abs2, Array(sol_ube) .- Y)\n",
    "    return loss\n",
    "end\n",
    "\n",
    "cb = function (p, l)\n",
    "    #display(l)\n",
    "    return false\n",
    "end\n",
    "\n",
    "res = DiffEqFlux.sciml_train(loss, p_model, ADAM(), cb=Flux.throttle(cb, 1), maxiters=200)"
   ]
  },
  {
   "cell_type": "code",
   "execution_count": 17,
   "metadata": {},
   "outputs": [],
   "source": [
    "phi, psi, phipsi = kernel_mode(\n",
    "    nm,\n",
    "    vSpace3D.u1,\n",
    "    vSpace3D.v1,\n",
    "    vSpace3D.w1,\n",
    "    vSpace3D.du[1, 1, 1],\n",
    "    vSpace3D.dv[1, 1, 1],\n",
    "    vSpace3D.dw[1, 1, 1],\n",
    "    vSpace3D.nu,\n",
    "    vSpace3D.nv,\n",
    "    vSpace3D.nw,\n",
    "    ks.gas.αᵣ,\n",
    ");"
   ]
  },
  {
   "cell_type": "code",
   "execution_count": 19,
   "metadata": {},
   "outputs": [
    {
     "data": {
      "text/plain": [
       "bench_boltz (generic function with 1 method)"
      ]
     },
     "execution_count": 19,
     "metadata": {},
     "output_type": "execute_result"
    }
   ],
   "source": [
    "function bench_boltz()\n",
    "    f_full = full_distribution(\n",
    "            ctr[1].h[1:end],\n",
    "            ctr[1].b[1:end],\n",
    "            ks.vSpace.u[1:end],\n",
    "            ks.vSpace.weights[1:end],\n",
    "            vSpace3D.v[1:end,1:end,1:end],\n",
    "            vSpace3D.w[1:end,1:end,1:end],\n",
    "            ctr[1].prim,\n",
    "            ks.gas.γ,\n",
    "        )\n",
    "\n",
    "    df = boltzmann_fft(f_full[1:end,1:end,1:end], kn_bzm, nm, phi, psi, phipsi);\n",
    "end"
   ]
  },
  {
   "cell_type": "code",
   "execution_count": 22,
   "metadata": {},
   "outputs": [
    {
     "name": "stderr",
     "output_type": "stream",
     "text": [
      "┌ Info: Precompiling BenchmarkTools [6e4b80f9-dd63-53aa-95a3-0cdb28fa8baf]\n",
      "└ @ Base loading.jl:1278\n"
     ]
    }
   ],
   "source": [
    "using BenchmarkTools"
   ]
  },
  {
   "cell_type": "code",
   "execution_count": 24,
   "metadata": {},
   "outputs": [
    {
     "data": {
      "text/plain": [
       "BenchmarkTools.Trial: \n",
       "  memory estimate:  62.73 MiB\n",
       "  allocs estimate:  1769\n",
       "  --------------\n",
       "  minimum time:     23.964 ms (0.00% GC)\n",
       "  median time:      27.802 ms (0.00% GC)\n",
       "  mean time:        28.189 ms (7.82% GC)\n",
       "  maximum time:     45.597 ms (9.38% GC)\n",
       "  --------------\n",
       "  samples:          178\n",
       "  evals/sample:     1"
      ]
     },
     "execution_count": 24,
     "metadata": {},
     "output_type": "execute_result"
    }
   ],
   "source": [
    "@benchmark bench_boltz()"
   ]
  },
  {
   "cell_type": "code",
   "execution_count": null,
   "metadata": {},
   "outputs": [],
   "source": []
  }
 ],
 "metadata": {
  "kernelspec": {
   "display_name": "Julia 1.5.0",
   "language": "julia",
   "name": "julia-1.5"
  },
  "language_info": {
   "file_extension": ".jl",
   "mimetype": "application/julia",
   "name": "julia",
   "version": "1.5.0"
  }
 },
 "nbformat": 4,
 "nbformat_minor": 4
}

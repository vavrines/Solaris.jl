{
 "cells": [
  {
   "cell_type": "code",
   "execution_count": 1,
   "metadata": {},
   "outputs": [
    {
     "name": "stderr",
     "output_type": "stream",
     "text": [
      "┌ Info: Precompiling Revise [295af30f-e4ad-537b-8983-00126c2a3abe]\n",
      "└ @ Base loading.jl:1260\n",
      "┌ Info: Precompiling UKE [384c50d4-0126-4b98-92c6-2fca2b7bede1]\n",
      "└ @ Base loading.jl:1260\n",
      "┌ Error: (compiled mode) evaluation error starting at /home/vavrines/.julia/packages/DistributionsAD/dKKOw/src/reversediff.jl:26\n",
      "│   mod = DistributionsAD.ReverseDiffX\n",
      "│   ex = begin\n",
      "    #= /home/vavrines/.julia/packages/DistributionsAD/dKKOw/src/reversediff.jl:26 =#\n",
      "    const RDBroadcasted{F, T} = Broadcasted{<:Any, <:Any, F, T}\n",
      "end\n",
      "│   exception = (ErrorException(\"invalid redefinition of constant RDBroadcasted\"), Union{Ptr{Nothing}, Base.InterpreterIP}[Ptr{Nothing} @0x00007f194ff5e72f, Ptr{Nothing} @0x00007f194ffeb94c, Ptr{Nothing} @0x00007f194ffee0f8, Ptr{Nothing} @0x00007f194ffeefe7, Base.InterpreterIP in top-level CodeInfo for DistributionsAD.ReverseDiffX at statement 15])\n",
      "└ @ Revise /home/vavrines/.julia/packages/Revise/BqeJF/src/lowered.jl:85\n"
     ]
    }
   ],
   "source": [
    "using Revise, UKE, Optim, Plots, FileIO, JLD2, OffsetArrays, ProgressMeter"
   ]
  },
  {
   "cell_type": "code",
   "execution_count": 2,
   "metadata": {},
   "outputs": [
    {
     "name": "stdout",
     "output_type": "stream",
     "text": [
      "case = shock\n",
      "space = 1d2f1v\n",
      "nSpecies = 1\n",
      "interpOrder = 1\n",
      "limiter = vanleer\n",
      "cfl = 0.7\n",
      "maxTime = 250.0\n",
      "x0 = -25.0\n",
      "x1 = 25.0\n",
      "nx = 80\n",
      "pMeshType = uniform\n",
      "nxg = 1\n",
      "umin = -10.0\n",
      "umax = 10.0\n",
      "nu = 64\n",
      "nug = 0\n",
      "vmin = -10.0\n",
      "vmax = 10.0\n",
      "nv = 28\n",
      "nvg = 0\n",
      "wmin = -10.0\n",
      "wmax = 10.0\n",
      "nw = 28\n",
      "nwg = 0\n",
      "vMeshType = rectangle\n",
      "knudsen = 1.0\n",
      "mach = 3.0\n",
      "prandtl = 0.6666667\n",
      "inK = 2\n",
      "omega = 0.5\n",
      "alphaRef = 1.0\n",
      "omegaRef = 0.5\n",
      "nm = 5\n",
      "tLen = 3\n",
      "nh = 12\n",
      "\n"
     ]
    }
   ],
   "source": [
    "config = \"config.txt\"\n",
    "D = read_dict(config)\n",
    "for key in keys(D)\n",
    "    s = Symbol(key)\n",
    "    @eval $s = $(D[key])\n",
    "end"
   ]
  },
  {
   "cell_type": "code",
   "execution_count": 3,
   "metadata": {},
   "outputs": [
    {
     "data": {
      "text/plain": [
       "0.0f0:0.018620167f0:0.037240334f0"
      ]
     },
     "execution_count": 3,
     "metadata": {},
     "output_type": "execute_result"
    }
   ],
   "source": [
    "γ = heat_capacity_ratio(inK, 1)\n",
    "set = Setup(case, space, nSpecies, interpOrder, limiter, cfl, maxTime)\n",
    "pSpace = PSpace1D(x0, x1, nx, pMeshType, nxg)\n",
    "μᵣ = ref_vhs_vis(knudsen, alphaRef, omegaRef)\n",
    "gas = GasProperty(knudsen, mach, prandtl, inK, γ, omega, alphaRef, omegaRef, μᵣ)\n",
    "vSpace = VSpace1D(umin, umax, nu, vMeshType)\n",
    "vSpace2D = VSpace2D(vmin, vmax, nv, wmin, wmax, nw, vMeshType)\n",
    "vSpace3D = VSpace3D(umin, umax, nu, vmin, vmax, nv, wmin, wmax, nw, vMeshType)\n",
    "wL, primL, hL, bL, bcL, wR, primR, hR, bR, bcR = ib_rh(mach, γ, vSpace.u, inK)\n",
    "ib = IB2F(wL, primL, hL, bL, bcL, wR, primR, hR, bR, bcR)\n",
    "ks = SolverSet(set, pSpace, vSpace, gas, ib, pwd())\n",
    "\n",
    "kn_bzm = hs_boltz_kn(ks.gas.μᵣ, 1.0)\n",
    "sos = sound_speed(ks.ib.primR, γ)\n",
    "tmax = (ks.vSpace.u1 + sos) / ks.pSpace.dx[1]\n",
    "dt = Float32(ks.set.cfl / tmax)\n",
    "tspan = (0.f0, dt)\n",
    "tran = range(tspan[1], tspan[2], length = tLen)"
   ]
  },
  {
   "cell_type": "code",
   "execution_count": 52,
   "metadata": {},
   "outputs": [],
   "source": [
    "ctr = OffsetArray{ControlVolume1D2F}(undef, eachindex(ks.pSpace.x))\n",
    "face = Array{Interface1D2F}(undef, ks.pSpace.nx + 1)\n",
    "for i in eachindex(ctr)\n",
    "    if i <= ks.pSpace.nx ÷ 2\n",
    "        ctr[i] = ControlVolume1D2F(\n",
    "            ks.pSpace.x[i],\n",
    "            ks.pSpace.dx[i],\n",
    "            Float32.(ks.ib.wL),\n",
    "            Float32.(ks.ib.primL),\n",
    "            Float32.(ks.ib.hL),\n",
    "            Float32.(ks.ib.bL),\n",
    "        )\n",
    "    else\n",
    "        ctr[i] = ControlVolume1D2F(\n",
    "            ks.pSpace.x[i],\n",
    "            ks.pSpace.dx[i],\n",
    "            Float32.(ks.ib.wR),\n",
    "            Float32.(ks.ib.primR),\n",
    "            Float32.(ks.ib.hR),\n",
    "            Float32.(ks.ib.bR),\n",
    "        )\n",
    "    end\n",
    "end\n",
    "for i = 1:ks.pSpace.nx+1\n",
    "    face[i] = Interface1D2F(ks.ib.wL, ks.ib.hL)\n",
    "end"
   ]
  },
  {
   "cell_type": "code",
   "execution_count": 53,
   "metadata": {},
   "outputs": [
    {
     "name": "stderr",
     "output_type": "stream",
     "text": [
      "\u001b[32mProgress: 100%|█████████████████████████████████████████| Time: 0:00:05\u001b[39m\n"
     ]
    }
   ],
   "source": [
    "sumRes = zeros(3)\n",
    "@showprogress for iter = 1:2000\n",
    "    Kinetic.evolve!(ks, ctr, face, dt)\n",
    "    Kinetic.update!(ks, ctr, face, dt, sumRes)\n",
    "end"
   ]
  },
  {
   "cell_type": "code",
   "execution_count": 54,
   "metadata": {},
   "outputs": [
    {
     "data": {
      "text/plain": [
       "generate_data (generic function with 1 method)"
      ]
     },
     "execution_count": 54,
     "metadata": {},
     "output_type": "execute_result"
    }
   ],
   "source": [
    "function shakhov!(df, f, p, t)\n",
    "    H, B, tau = p\n",
    "    df[1:end÷2, :] .= (H .- f[1:end÷2, :]) ./ tau\n",
    "    df[end÷2+1:end, :] .= (B .- f[end÷2+1:end, :]) ./ tau\n",
    "end\n",
    "\n",
    "function generate_data(ks, ctr)\n",
    "    nx = ks.pSpace.nx\n",
    "    nu = ks.vSpace.nu\n",
    "    \n",
    "    X = Array{Float32}(undef, nu * 2, nx)\n",
    "    for i = 1:nx\n",
    "        X[1:nu, i] .= ctr[i].h\n",
    "        X[nu+1:end, i] .= ctr[i].b\n",
    "    end\n",
    "    \n",
    "    H = Array{Float32}(undef, nu, size(X, 2))\n",
    "    B = Array{Float32}(undef, nu, size(X, 2))\n",
    "    SH = Array{Float32}(undef, nu, size(X, 2))\n",
    "    SB = Array{Float32}(undef, nu, size(X, 2))\n",
    "    τ = Array{Float32}(undef, 1, size(X, 2))\n",
    "    for i in axes(X, 2)\n",
    "        H[:, i] .= maxwellian(ks.vSpace.u, ctr[i].prim)\n",
    "        B[:, i] .= H[:, i] .* ks.gas.K ./ (2.0 .* ctr[i].prim[end])\n",
    "\n",
    "        q = heat_flux(ctr[i].h, ctr[i].b, ctr[i].prim, ks.vSpace.u, ks.vSpace.weights)\n",
    "        H1, B1 = shakhov(ks.vSpace.u, H[:,i], B[:,i], q, ctr[i].prim, ks.gas.Pr, ks.gas.K)\n",
    "        SH[:,i] .= H[:,i] .+ H1\n",
    "        SB[:,i] .= B[:,i] .+ B1\n",
    "\n",
    "        τ[1, i] = vhs_collision_time(ctr[i].prim, ks.gas.μᵣ, ks.gas.ω)\n",
    "    end\n",
    "    P = [SH, SB, τ]\n",
    "    M = vcat(H, B)\n",
    "\n",
    "    prob = ODEProblem(shakhov!, X, tspan, P)\n",
    "    Y = solve(prob, Euler(), dt=dt) |> Array;\n",
    "    \n",
    "    return X, Y, H, B, M, τ\n",
    "end"
   ]
  },
  {
   "cell_type": "code",
   "execution_count": 55,
   "metadata": {},
   "outputs": [],
   "source": [
    "X, Y, H, B, M, τ = generate_data(ks, ctr);"
   ]
  },
  {
   "cell_type": "code",
   "execution_count": 56,
   "metadata": {},
   "outputs": [
    {
     "name": "stderr",
     "output_type": "stream",
     "text": [
      "\u001b[32mloss: 4.22e-06: 100%|█████████████████████████████████████████| Time: 0:01:53\u001b[39m\n"
     ]
    },
    {
     "data": {
      "text/plain": [
       " * Status: success\n",
       "\n",
       " * Candidate solution\n",
       "    Final objective value:     4.215723e-06\n",
       "\n",
       " * Found with\n",
       "    Algorithm:     ADAM\n",
       "\n",
       " * Convergence measures\n",
       "    |x - x'|               = NaN ≰ 0.0e+00\n",
       "    |x - x'|/|x'|          = NaN ≰ 0.0e+00\n",
       "    |f(x) - f(x')|         = NaN ≰ 0.0e+00\n",
       "    |f(x) - f(x')|/|f(x')| = NaN ≰ 0.0e+00\n",
       "    |g(x)|                 = NaN ≰ 0.0e+00\n",
       "\n",
       " * Work counters\n",
       "    Seconds run:   118  (vs limit Inf)\n",
       "    Iterations:    200\n",
       "    f(x) calls:    200\n",
       "    ∇f(x) calls:   200\n"
      ]
     },
     "execution_count": 56,
     "metadata": {},
     "output_type": "execute_result"
    }
   ],
   "source": [
    "ann = FastChain(\n",
    "    #(x, p) -> zeros(eltype(x), axes(x)),\n",
    "    FastDense(nu * 2, nu * 2 * nh, tanh),\n",
    "    FastDense(nu * 2 * nh, nu * 2 * nh, tanh),\n",
    "    FastDense(nu * 2 * nh, nu * 2),\n",
    ")\n",
    "\n",
    "p_model = initial_params(ann)\n",
    "\n",
    "function dfdt(f, p, t)\n",
    "    h = f[1:nu, :]\n",
    "    b = f[nu+1:end, :]\n",
    "\n",
    "    dh = (H .- h) ./ τ .+ ann(f .- M, p)[1:nu, :]\n",
    "    db = (B .- b) ./ τ .+ ann(f .- M, p)[nu+1:end, :]\n",
    "\n",
    "    df = vcat(dh, db)\n",
    "end\n",
    "\n",
    "ode_prob = ODEProblem(dfdt, X, tspan, p_model)\n",
    "\n",
    "function loss(p)\n",
    "    #sol = solve(ode_prob, Midpoint(), u0=X, p=p, saveat=tran)\n",
    "    sol = solve(ode_prob, Euler(), u0=X, p=p, dt=dt)\n",
    "    loss = sum(abs2, Array(sol) .- Y)\n",
    "    return loss\n",
    "end\n",
    "\n",
    "cb = function (p, l)\n",
    "    #display(l)\n",
    "    return false\n",
    "end\n",
    "\n",
    "res = DiffEqFlux.sciml_train(loss, p_model, ADAM(), cb=Flux.throttle(cb, 1), maxiters=200)"
   ]
  },
  {
   "cell_type": "code",
   "execution_count": 61,
   "metadata": {},
   "outputs": [
    {
     "name": "stderr",
     "output_type": "stream",
     "text": [
      "\u001b[32mProgress: 100%|█████████████████████████████████████████| Time: 0:00:04\u001b[39m\n"
     ]
    }
   ],
   "source": [
    "sumRes = zeros(Float32, axes(ks.ib.wL));\n",
    "sumAvg = zeros(Float32, axes(ks.ib.wL));\n",
    "\n",
    "@showprogress for iter = 1:10\n",
    "    Kinetic.evolve!(ks, ctr, face, dt)\n",
    "    \n",
    "    for i = 2:49\n",
    "        p = (ks.gas.K, ks.gas.γ, ks.gas.μᵣ, ks.gas.ω, ks.gas.Pr, ctr[i].dx, dt, sumRes, sumAvg, ann, res.minimizer)\n",
    "        step_ube!(\n",
    "            face[i].fw,\n",
    "            face[i].fh,\n",
    "            face[i].fb,\n",
    "            ctr[i].w,\n",
    "            ctr[i].prim,\n",
    "            ctr[i].h,\n",
    "            ctr[i].b,\n",
    "            face[i+1].fw,\n",
    "            face[i+1].fh,\n",
    "            face[i+1].fb,\n",
    "            ks.vSpace.u, \n",
    "            ks.vSpace.weights,\n",
    "            p,\n",
    "            mode=:nn,\n",
    "        )\n",
    "    end\n",
    "end"
   ]
  },
  {
   "cell_type": "code",
   "execution_count": 57,
   "metadata": {
    "scrolled": true
   },
   "outputs": [
    {
     "data": {
      "text/plain": [
       "tst_ube! (generic function with 1 method)"
      ]
     },
     "execution_count": 57,
     "metadata": {},
     "output_type": "execute_result"
    }
   ],
   "source": [
    "function tst_ube!(fwL, fhL, fbL, w, prim, h, b, fwR, fhR, fbR, u, weights, p; mode=:nn)\n",
    "\n",
    "    K, γ, μ, ω, Pr, dx, dt, RES, AVG = p[1:9]\n",
    "    ann = p[10:end]\n",
    "\n",
    "    #--- record W^{n} ---#\n",
    "    w_old = deepcopy(w)\n",
    "    h_old = deepcopy(h)\n",
    "    b_old = deepcopy(b)\n",
    "\n",
    "    H_old = maxwellian(u, prim)\n",
    "    B_old = H_old .* K ./ (2. .* prim[end])\n",
    "    τ_old = vhs_collision_time(prim, μ, ω)\n",
    "\n",
    "    #--- update W^{n+1} ---#\n",
    "    @. w += (fwL - fwR) / dx\n",
    "    prim .= conserve_prim(w, γ)\n",
    "\n",
    "    H = maxwellian(u, prim)\n",
    "    B = H .* K ./ (2. .* prim[end])\n",
    "    τ = vhs_collision_time(prim, μ, ω)\n",
    "\n",
    "    #--- update f^{n+1} ---#\n",
    "    for i in eachindex(h)\n",
    "        h[i] += (fhL[i] - fhR[i]) / dx\n",
    "        b[i] += (fbL[i] - fbR[i]) / dx\n",
    "    end\n",
    "\n",
    "    if mode == :bgk\n",
    "        @. h = (h + H / τ * dt) / (1. + dt / τ)\n",
    "        @. b = (b + B / τ * dt) / (1. + dt / τ)\n",
    "    elseif mode == :shakhov\n",
    "        qf = heat_flux(h, b, prim, u, weights)\n",
    "        H1, B1 = shakhov(u, H, B, qf, prim, Pr, K)\n",
    "        H .+= H1\n",
    "        B .+= B1\n",
    "\n",
    "        @. h = (h + H / τ * dt) / (1. + dt / τ)\n",
    "        @. b = (b + B / τ * dt) / (1. + dt / τ)\n",
    "    elseif mode == :nn\n",
    "        df = ube_dfdt([h_old; b_old], ([H_old; B_old], τ_old, ann), dt)\n",
    "\n",
    "        @. h += df[1:end÷2] * dt\n",
    "        @. b += df[end÷2+1:end] *dt\n",
    "    end\n",
    "\n",
    "    #--- record residuals ---#\n",
    "    @. RES += (w - w_old)^2\n",
    "    @. AVG += abs(w)\n",
    "\n",
    "end"
   ]
  },
  {
   "cell_type": "code",
   "execution_count": 62,
   "metadata": {},
   "outputs": [
    {
     "data": {
      "image/svg+xml": [
       "<?xml version=\"1.0\" encoding=\"utf-8\"?>\n",
       "<svg xmlns=\"http://www.w3.org/2000/svg\" xmlns:xlink=\"http://www.w3.org/1999/xlink\" width=\"600\" height=\"400\" viewBox=\"0 0 2400 1600\">\n",
       "<defs>\n",
       "  <clipPath id=\"clip580\">\n",
       "    <rect x=\"0\" y=\"0\" width=\"2400\" height=\"1600\"/>\n",
       "  </clipPath>\n",
       "</defs>\n",
       "<path clip-path=\"url(#clip580)\" d=\"\n",
       "M0 1600 L2400 1600 L2400 0 L0 0  Z\n",
       "  \" fill=\"#ffffff\" fill-rule=\"evenodd\" fill-opacity=\"1\"/>\n",
       "<defs>\n",
       "  <clipPath id=\"clip581\">\n",
       "    <rect x=\"480\" y=\"0\" width=\"1681\" height=\"1600\"/>\n",
       "  </clipPath>\n",
       "</defs>\n",
       "<path clip-path=\"url(#clip580)\" d=\"\n",
       "M146.714 1423.18 L2352.76 1423.18 L2352.76 47.2441 L146.714 47.2441  Z\n",
       "  \" fill=\"#ffffff\" fill-rule=\"evenodd\" fill-opacity=\"1\"/>\n",
       "<defs>\n",
       "  <clipPath id=\"clip582\">\n",
       "    <rect x=\"146\" y=\"47\" width=\"2207\" height=\"1377\"/>\n",
       "  </clipPath>\n",
       "</defs>\n",
       "<polyline clip-path=\"url(#clip582)\" style=\"stroke:#000000; stroke-width:2; stroke-opacity:0.1; fill:none\" points=\"\n",
       "  406.729,1423.18 406.729,47.2441 \n",
       "  \"/>\n",
       "<polyline clip-path=\"url(#clip582)\" style=\"stroke:#000000; stroke-width:2; stroke-opacity:0.1; fill:none\" points=\"\n",
       "  828.232,1423.18 828.232,47.2441 \n",
       "  \"/>\n",
       "<polyline clip-path=\"url(#clip582)\" style=\"stroke:#000000; stroke-width:2; stroke-opacity:0.1; fill:none\" points=\"\n",
       "  1249.73,1423.18 1249.73,47.2441 \n",
       "  \"/>\n",
       "<polyline clip-path=\"url(#clip582)\" style=\"stroke:#000000; stroke-width:2; stroke-opacity:0.1; fill:none\" points=\"\n",
       "  1671.24,1423.18 1671.24,47.2441 \n",
       "  \"/>\n",
       "<polyline clip-path=\"url(#clip582)\" style=\"stroke:#000000; stroke-width:2; stroke-opacity:0.1; fill:none\" points=\"\n",
       "  2092.74,1423.18 2092.74,47.2441 \n",
       "  \"/>\n",
       "<polyline clip-path=\"url(#clip582)\" style=\"stroke:#000000; stroke-width:2; stroke-opacity:0.1; fill:none\" points=\"\n",
       "  146.714,1343.17 2352.76,1343.17 \n",
       "  \"/>\n",
       "<polyline clip-path=\"url(#clip582)\" style=\"stroke:#000000; stroke-width:2; stroke-opacity:0.1; fill:none\" points=\"\n",
       "  146.714,1107.48 2352.76,1107.48 \n",
       "  \"/>\n",
       "<polyline clip-path=\"url(#clip582)\" style=\"stroke:#000000; stroke-width:2; stroke-opacity:0.1; fill:none\" points=\"\n",
       "  146.714,871.8 2352.76,871.8 \n",
       "  \"/>\n",
       "<polyline clip-path=\"url(#clip582)\" style=\"stroke:#000000; stroke-width:2; stroke-opacity:0.1; fill:none\" points=\"\n",
       "  146.714,636.116 2352.76,636.116 \n",
       "  \"/>\n",
       "<polyline clip-path=\"url(#clip582)\" style=\"stroke:#000000; stroke-width:2; stroke-opacity:0.1; fill:none\" points=\"\n",
       "  146.714,400.431 2352.76,400.431 \n",
       "  \"/>\n",
       "<polyline clip-path=\"url(#clip582)\" style=\"stroke:#000000; stroke-width:2; stroke-opacity:0.1; fill:none\" points=\"\n",
       "  146.714,164.747 2352.76,164.747 \n",
       "  \"/>\n",
       "<polyline clip-path=\"url(#clip580)\" style=\"stroke:#000000; stroke-width:4; stroke-opacity:1; fill:none\" points=\"\n",
       "  146.714,1423.18 2352.76,1423.18 \n",
       "  \"/>\n",
       "<polyline clip-path=\"url(#clip580)\" style=\"stroke:#000000; stroke-width:4; stroke-opacity:1; fill:none\" points=\"\n",
       "  146.714,1423.18 146.714,47.2441 \n",
       "  \"/>\n",
       "<polyline clip-path=\"url(#clip580)\" style=\"stroke:#000000; stroke-width:4; stroke-opacity:1; fill:none\" points=\"\n",
       "  406.729,1423.18 406.729,1406.67 \n",
       "  \"/>\n",
       "<polyline clip-path=\"url(#clip580)\" style=\"stroke:#000000; stroke-width:4; stroke-opacity:1; fill:none\" points=\"\n",
       "  828.232,1423.18 828.232,1406.67 \n",
       "  \"/>\n",
       "<polyline clip-path=\"url(#clip580)\" style=\"stroke:#000000; stroke-width:4; stroke-opacity:1; fill:none\" points=\"\n",
       "  1249.73,1423.18 1249.73,1406.67 \n",
       "  \"/>\n",
       "<polyline clip-path=\"url(#clip580)\" style=\"stroke:#000000; stroke-width:4; stroke-opacity:1; fill:none\" points=\"\n",
       "  1671.24,1423.18 1671.24,1406.67 \n",
       "  \"/>\n",
       "<polyline clip-path=\"url(#clip580)\" style=\"stroke:#000000; stroke-width:4; stroke-opacity:1; fill:none\" points=\"\n",
       "  2092.74,1423.18 2092.74,1406.67 \n",
       "  \"/>\n",
       "<polyline clip-path=\"url(#clip580)\" style=\"stroke:#000000; stroke-width:4; stroke-opacity:1; fill:none\" points=\"\n",
       "  146.714,1343.17 173.187,1343.17 \n",
       "  \"/>\n",
       "<polyline clip-path=\"url(#clip580)\" style=\"stroke:#000000; stroke-width:4; stroke-opacity:1; fill:none\" points=\"\n",
       "  146.714,1107.48 173.187,1107.48 \n",
       "  \"/>\n",
       "<polyline clip-path=\"url(#clip580)\" style=\"stroke:#000000; stroke-width:4; stroke-opacity:1; fill:none\" points=\"\n",
       "  146.714,871.8 173.187,871.8 \n",
       "  \"/>\n",
       "<polyline clip-path=\"url(#clip580)\" style=\"stroke:#000000; stroke-width:4; stroke-opacity:1; fill:none\" points=\"\n",
       "  146.714,636.116 173.187,636.116 \n",
       "  \"/>\n",
       "<polyline clip-path=\"url(#clip580)\" style=\"stroke:#000000; stroke-width:4; stroke-opacity:1; fill:none\" points=\"\n",
       "  146.714,400.431 173.187,400.431 \n",
       "  \"/>\n",
       "<polyline clip-path=\"url(#clip580)\" style=\"stroke:#000000; stroke-width:4; stroke-opacity:1; fill:none\" points=\"\n",
       "  146.714,164.747 173.187,164.747 \n",
       "  \"/>\n",
       "<path clip-path=\"url(#clip580)\" d=\"M 0 0 M374.275 1461.77 L386.752 1461.77 L386.752 1465.56 L374.275 1465.56 L374.275 1461.77 Z\" fill=\"#000000\" fill-rule=\"evenodd\" fill-opacity=\"1\" /><path clip-path=\"url(#clip580)\" d=\"M 0 0 M395.849 1472.72 L412.169 1472.72 L412.169 1476.65 L390.224 1476.65 L390.224 1472.72 Q392.886 1469.96 397.47 1465.33 Q402.076 1460.68 403.257 1459.34 Q405.502 1456.81 406.382 1455.08 Q407.284 1453.32 407.284 1451.63 Q407.284 1448.87 405.34 1447.14 Q403.419 1445.4 400.317 1445.4 Q398.118 1445.4 395.664 1446.17 Q393.233 1446.93 390.456 1448.48 L390.456 1443.76 Q393.28 1442.62 395.733 1442.05 Q398.187 1441.47 400.224 1441.47 Q405.595 1441.47 408.789 1444.15 Q411.983 1446.84 411.983 1451.33 Q411.983 1453.46 411.173 1455.38 Q410.386 1457.28 408.28 1459.87 Q407.701 1460.54 404.599 1463.76 Q401.497 1466.95 395.849 1472.72 Z\" fill=\"#000000\" fill-rule=\"evenodd\" fill-opacity=\"1\" /><path clip-path=\"url(#clip580)\" d=\"M 0 0 M427.238 1445.17 Q423.627 1445.17 421.798 1448.74 Q419.993 1452.28 419.993 1459.41 Q419.993 1466.51 421.798 1470.08 Q423.627 1473.62 427.238 1473.62 Q430.872 1473.62 432.678 1470.08 Q434.506 1466.51 434.506 1459.41 Q434.506 1452.28 432.678 1448.74 Q430.872 1445.17 427.238 1445.17 M427.238 1441.47 Q433.048 1441.47 436.104 1446.07 Q439.182 1450.66 439.182 1459.41 Q439.182 1468.13 436.104 1472.74 Q433.048 1477.32 427.238 1477.32 Q421.428 1477.32 418.349 1472.74 Q415.294 1468.13 415.294 1459.41 Q415.294 1450.66 418.349 1446.07 Q421.428 1441.47 427.238 1441.47 Z\" fill=\"#000000\" fill-rule=\"evenodd\" fill-opacity=\"1\" /><path clip-path=\"url(#clip580)\" d=\"M 0 0 M795.593 1461.77 L808.07 1461.77 L808.07 1465.56 L795.593 1465.56 L795.593 1461.77 Z\" fill=\"#000000\" fill-rule=\"evenodd\" fill-opacity=\"1\" /><path clip-path=\"url(#clip580)\" d=\"M 0 0 M813.95 1472.72 L821.588 1472.72 L821.588 1446.35 L813.278 1448.02 L813.278 1443.76 L821.542 1442.09 L826.218 1442.09 L826.218 1472.72 L833.857 1472.72 L833.857 1476.65 L813.95 1476.65 L813.95 1472.72 Z\" fill=\"#000000\" fill-rule=\"evenodd\" fill-opacity=\"1\" /><path clip-path=\"url(#clip580)\" d=\"M 0 0 M848.926 1445.17 Q845.315 1445.17 843.486 1448.74 Q841.681 1452.28 841.681 1459.41 Q841.681 1466.51 843.486 1470.08 Q845.315 1473.62 848.926 1473.62 Q852.56 1473.62 854.366 1470.08 Q856.195 1466.51 856.195 1459.41 Q856.195 1452.28 854.366 1448.74 Q852.56 1445.17 848.926 1445.17 M848.926 1441.47 Q854.736 1441.47 857.792 1446.07 Q860.871 1450.66 860.871 1459.41 Q860.871 1468.13 857.792 1472.74 Q854.736 1477.32 848.926 1477.32 Q843.116 1477.32 840.037 1472.74 Q836.982 1468.13 836.982 1459.41 Q836.982 1450.66 840.037 1446.07 Q843.116 1441.47 848.926 1441.47 Z\" fill=\"#000000\" fill-rule=\"evenodd\" fill-opacity=\"1\" /><path clip-path=\"url(#clip580)\" d=\"M 0 0 M1249.73 1445.17 Q1246.12 1445.17 1244.3 1448.74 Q1242.49 1452.28 1242.49 1459.41 Q1242.49 1466.51 1244.3 1470.08 Q1246.12 1473.62 1249.73 1473.62 Q1253.37 1473.62 1255.17 1470.08 Q1257 1466.51 1257 1459.41 Q1257 1452.28 1255.17 1448.74 Q1253.37 1445.17 1249.73 1445.17 M1249.73 1441.47 Q1255.55 1441.47 1258.6 1446.07 Q1261.68 1450.66 1261.68 1459.41 Q1261.68 1468.13 1258.6 1472.74 Q1255.55 1477.32 1249.73 1477.32 Q1243.92 1477.32 1240.85 1472.74 Q1237.79 1468.13 1237.79 1459.41 Q1237.79 1450.66 1240.85 1446.07 Q1243.92 1441.47 1249.73 1441.47 Z\" fill=\"#000000\" fill-rule=\"evenodd\" fill-opacity=\"1\" /><path clip-path=\"url(#clip580)\" d=\"M 0 0 M1648.11 1472.72 L1655.75 1472.72 L1655.75 1446.35 L1647.44 1448.02 L1647.44 1443.76 L1655.71 1442.09 L1660.38 1442.09 L1660.38 1472.72 L1668.02 1472.72 L1668.02 1476.65 L1648.11 1476.65 L1648.11 1472.72 Z\" fill=\"#000000\" fill-rule=\"evenodd\" fill-opacity=\"1\" /><path clip-path=\"url(#clip580)\" d=\"M 0 0 M1683.09 1445.17 Q1679.48 1445.17 1677.65 1448.74 Q1675.84 1452.28 1675.84 1459.41 Q1675.84 1466.51 1677.65 1470.08 Q1679.48 1473.62 1683.09 1473.62 Q1686.72 1473.62 1688.53 1470.08 Q1690.36 1466.51 1690.36 1459.41 Q1690.36 1452.28 1688.53 1448.74 Q1686.72 1445.17 1683.09 1445.17 M1683.09 1441.47 Q1688.9 1441.47 1691.96 1446.07 Q1695.03 1450.66 1695.03 1459.41 Q1695.03 1468.13 1691.96 1472.74 Q1688.9 1477.32 1683.09 1477.32 Q1677.28 1477.32 1674.2 1472.74 Q1671.15 1468.13 1671.15 1459.41 Q1671.15 1450.66 1674.2 1446.07 Q1677.28 1441.47 1683.09 1441.47 Z\" fill=\"#000000\" fill-rule=\"evenodd\" fill-opacity=\"1\" /><path clip-path=\"url(#clip580)\" d=\"M 0 0 M2073.89 1472.72 L2090.21 1472.72 L2090.21 1476.65 L2068.26 1476.65 L2068.26 1472.72 Q2070.92 1469.96 2075.51 1465.33 Q2080.11 1460.68 2081.29 1459.34 Q2083.54 1456.81 2084.42 1455.08 Q2085.32 1453.32 2085.32 1451.63 Q2085.32 1448.87 2083.38 1447.14 Q2081.46 1445.4 2078.35 1445.4 Q2076.16 1445.4 2073.7 1446.17 Q2071.27 1446.93 2068.49 1448.48 L2068.49 1443.76 Q2071.32 1442.62 2073.77 1442.05 Q2076.23 1441.47 2078.26 1441.47 Q2083.63 1441.47 2086.83 1444.15 Q2090.02 1446.84 2090.02 1451.33 Q2090.02 1453.46 2089.21 1455.38 Q2088.42 1457.28 2086.32 1459.87 Q2085.74 1460.54 2082.64 1463.76 Q2079.54 1466.95 2073.89 1472.72 Z\" fill=\"#000000\" fill-rule=\"evenodd\" fill-opacity=\"1\" /><path clip-path=\"url(#clip580)\" d=\"M 0 0 M2105.28 1445.17 Q2101.66 1445.17 2099.84 1448.74 Q2098.03 1452.28 2098.03 1459.41 Q2098.03 1466.51 2099.84 1470.08 Q2101.66 1473.62 2105.28 1473.62 Q2108.91 1473.62 2110.72 1470.08 Q2112.54 1466.51 2112.54 1459.41 Q2112.54 1452.28 2110.72 1448.74 Q2108.91 1445.17 2105.28 1445.17 M2105.28 1441.47 Q2111.09 1441.47 2114.14 1446.07 Q2117.22 1450.66 2117.22 1459.41 Q2117.22 1468.13 2114.14 1472.74 Q2111.09 1477.32 2105.28 1477.32 Q2099.47 1477.32 2096.39 1472.74 Q2093.33 1468.13 2093.33 1459.41 Q2093.33 1450.66 2096.39 1446.07 Q2099.47 1441.47 2105.28 1441.47 Z\" fill=\"#000000\" fill-rule=\"evenodd\" fill-opacity=\"1\" /><path clip-path=\"url(#clip580)\" d=\"M 0 0 M65.8393 1356.51 L73.4782 1356.51 L73.4782 1330.15 L65.168 1331.81 L65.168 1327.56 L73.4319 1325.89 L78.1078 1325.89 L78.1078 1356.51 L85.7466 1356.51 L85.7466 1360.45 L65.8393 1360.45 L65.8393 1356.51 Z\" fill=\"#000000\" fill-rule=\"evenodd\" fill-opacity=\"1\" /><path clip-path=\"url(#clip580)\" d=\"M 0 0 M90.8161 1354.57 L95.7003 1354.57 L95.7003 1360.45 L90.8161 1360.45 L90.8161 1354.57 Z\" fill=\"#000000\" fill-rule=\"evenodd\" fill-opacity=\"1\" /><path clip-path=\"url(#clip580)\" d=\"M 0 0 M110.77 1328.97 Q107.159 1328.97 105.33 1332.53 Q103.524 1336.07 103.524 1343.2 Q103.524 1350.31 105.33 1353.87 Q107.159 1357.42 110.77 1357.42 Q114.404 1357.42 116.209 1353.87 Q118.038 1350.31 118.038 1343.2 Q118.038 1336.07 116.209 1332.53 Q114.404 1328.97 110.77 1328.97 M110.77 1325.26 Q116.58 1325.26 119.635 1329.87 Q122.714 1334.45 122.714 1343.2 Q122.714 1351.93 119.635 1356.54 Q116.58 1361.12 110.77 1361.12 Q104.959 1361.12 101.881 1356.54 Q98.8253 1351.93 98.8253 1343.2 Q98.8253 1334.45 101.881 1329.87 Q104.959 1325.26 110.77 1325.26 Z\" fill=\"#000000\" fill-rule=\"evenodd\" fill-opacity=\"1\" /><path clip-path=\"url(#clip580)\" d=\"M 0 0 M66.8347 1120.83 L74.4735 1120.83 L74.4735 1094.46 L66.1634 1096.13 L66.1634 1091.87 L74.4272 1090.2 L79.1032 1090.2 L79.1032 1120.83 L86.742 1120.83 L86.742 1124.76 L66.8347 1124.76 L66.8347 1120.83 Z\" fill=\"#000000\" fill-rule=\"evenodd\" fill-opacity=\"1\" /><path clip-path=\"url(#clip580)\" d=\"M 0 0 M91.8114 1118.88 L96.6956 1118.88 L96.6956 1124.76 L91.8114 1124.76 L91.8114 1118.88 Z\" fill=\"#000000\" fill-rule=\"evenodd\" fill-opacity=\"1\" /><path clip-path=\"url(#clip580)\" d=\"M 0 0 M101.811 1090.2 L120.168 1090.2 L120.168 1094.14 L106.094 1094.14 L106.094 1102.61 Q107.112 1102.26 108.131 1102.1 Q109.149 1101.92 110.168 1101.92 Q115.955 1101.92 119.334 1105.09 Q122.714 1108.26 122.714 1113.68 Q122.714 1119.25 119.242 1122.36 Q115.77 1125.44 109.45 1125.44 Q107.274 1125.44 105.006 1125.07 Q102.76 1124.69 100.353 1123.95 L100.353 1119.25 Q102.436 1120.39 104.659 1120.94 Q106.881 1121.5 109.358 1121.5 Q113.362 1121.5 115.7 1119.39 Q118.038 1117.29 118.038 1113.68 Q118.038 1110.07 115.7 1107.96 Q113.362 1105.85 109.358 1105.85 Q107.483 1105.85 105.608 1106.27 Q103.756 1106.69 101.811 1107.57 L101.811 1090.2 Z\" fill=\"#000000\" fill-rule=\"evenodd\" fill-opacity=\"1\" /><path clip-path=\"url(#clip580)\" d=\"M 0 0 M69.4273 885.145 L85.7466 885.145 L85.7466 889.08 L63.8023 889.08 L63.8023 885.145 Q66.4643 882.39 71.0476 877.76 Q75.6541 873.108 76.8346 871.765 Q79.08 869.242 79.9596 867.506 Q80.8624 865.747 80.8624 864.057 Q80.8624 861.302 78.918 859.566 Q76.9967 857.83 73.8948 857.83 Q71.6958 857.83 69.2421 858.594 Q66.8115 859.358 64.0338 860.909 L64.0338 856.186 Q66.8578 855.052 69.3115 854.474 Q71.7652 853.895 73.8023 853.895 Q79.1726 853.895 82.367 856.58 Q85.5614 859.265 85.5614 863.756 Q85.5614 865.886 84.7513 867.807 Q83.9642 869.705 81.8578 872.298 Q81.2791 872.969 78.1772 876.186 Q75.0754 879.381 69.4273 885.145 Z\" fill=\"#000000\" fill-rule=\"evenodd\" fill-opacity=\"1\" /><path clip-path=\"url(#clip580)\" d=\"M 0 0 M90.8161 883.2 L95.7003 883.2 L95.7003 889.08 L90.8161 889.08 L90.8161 883.2 Z\" fill=\"#000000\" fill-rule=\"evenodd\" fill-opacity=\"1\" /><path clip-path=\"url(#clip580)\" d=\"M 0 0 M110.77 857.599 Q107.159 857.599 105.33 861.163 Q103.524 864.705 103.524 871.835 Q103.524 878.941 105.33 882.506 Q107.159 886.047 110.77 886.047 Q114.404 886.047 116.209 882.506 Q118.038 878.941 118.038 871.835 Q118.038 864.705 116.209 861.163 Q114.404 857.599 110.77 857.599 M110.77 853.895 Q116.58 853.895 119.635 858.501 Q122.714 863.085 122.714 871.835 Q122.714 880.561 119.635 885.168 Q116.58 889.751 110.77 889.751 Q104.959 889.751 101.881 885.168 Q98.8253 880.561 98.8253 871.835 Q98.8253 863.085 101.881 858.501 Q104.959 853.895 110.77 853.895 Z\" fill=\"#000000\" fill-rule=\"evenodd\" fill-opacity=\"1\" /><path clip-path=\"url(#clip580)\" d=\"M 0 0 M70.4226 649.46 L86.742 649.46 L86.742 653.396 L64.7977 653.396 L64.7977 649.46 Q67.4597 646.706 72.043 642.076 Q76.6495 637.423 77.83 636.081 Q80.0754 633.558 80.955 631.822 Q81.8578 630.062 81.8578 628.373 Q81.8578 625.618 79.9133 623.882 Q77.992 622.146 74.8902 622.146 Q72.6911 622.146 70.2375 622.91 Q67.8069 623.674 65.0292 625.224 L65.0292 620.502 Q67.8532 619.368 70.3069 618.789 Q72.7606 618.211 74.7976 618.211 Q80.168 618.211 83.3624 620.896 Q86.5568 623.581 86.5568 628.072 Q86.5568 630.201 85.7466 632.123 Q84.9596 634.021 82.8531 636.613 Q82.2744 637.285 79.1726 640.502 Q76.0708 643.697 70.4226 649.46 Z\" fill=\"#000000\" fill-rule=\"evenodd\" fill-opacity=\"1\" /><path clip-path=\"url(#clip580)\" d=\"M 0 0 M91.8114 647.516 L96.6956 647.516 L96.6956 653.396 L91.8114 653.396 L91.8114 647.516 Z\" fill=\"#000000\" fill-rule=\"evenodd\" fill-opacity=\"1\" /><path clip-path=\"url(#clip580)\" d=\"M 0 0 M101.811 618.836 L120.168 618.836 L120.168 622.771 L106.094 622.771 L106.094 631.243 Q107.112 630.896 108.131 630.734 Q109.149 630.548 110.168 630.548 Q115.955 630.548 119.334 633.72 Q122.714 636.891 122.714 642.308 Q122.714 647.886 119.242 650.988 Q115.77 654.067 109.45 654.067 Q107.274 654.067 105.006 653.696 Q102.76 653.326 100.353 652.585 L100.353 647.886 Q102.436 649.021 104.659 649.576 Q106.881 650.132 109.358 650.132 Q113.362 650.132 115.7 648.025 Q118.038 645.919 118.038 642.308 Q118.038 638.697 115.7 636.59 Q113.362 634.484 109.358 634.484 Q107.483 634.484 105.608 634.9 Q103.756 635.317 101.811 636.197 L101.811 618.836 Z\" fill=\"#000000\" fill-rule=\"evenodd\" fill-opacity=\"1\" /><path clip-path=\"url(#clip580)\" d=\"M 0 0 M78.617 399.077 Q81.9735 399.795 83.8485 402.063 Q85.7466 404.332 85.7466 407.665 Q85.7466 412.781 82.2281 415.582 Q78.7096 418.383 72.2282 418.383 Q70.0523 418.383 67.7375 417.943 Q65.4458 417.526 62.9921 416.67 L62.9921 412.156 Q64.9366 413.29 67.2514 413.869 Q69.5662 414.447 72.0893 414.447 Q76.4874 414.447 78.7791 412.711 Q81.0939 410.975 81.0939 407.665 Q81.0939 404.61 78.9411 402.897 Q76.8115 401.16 72.9921 401.16 L68.9643 401.16 L68.9643 397.318 L73.1773 397.318 Q76.6263 397.318 78.455 395.952 Q80.2837 394.563 80.2837 391.971 Q80.2837 389.309 78.3856 387.897 Q76.5106 386.461 72.9921 386.461 Q71.0708 386.461 68.8717 386.878 Q66.6727 387.295 64.0338 388.174 L64.0338 384.008 Q66.6958 383.267 69.0106 382.897 Q71.3486 382.526 73.4087 382.526 Q78.7328 382.526 81.8346 384.957 Q84.9365 387.364 84.9365 391.485 Q84.9365 394.355 83.2929 396.346 Q81.6494 398.313 78.617 399.077 Z\" fill=\"#000000\" fill-rule=\"evenodd\" fill-opacity=\"1\" /><path clip-path=\"url(#clip580)\" d=\"M 0 0 M90.8161 411.832 L95.7003 411.832 L95.7003 417.711 L90.8161 417.711 L90.8161 411.832 Z\" fill=\"#000000\" fill-rule=\"evenodd\" fill-opacity=\"1\" /><path clip-path=\"url(#clip580)\" d=\"M 0 0 M110.77 386.23 Q107.159 386.23 105.33 389.795 Q103.524 393.336 103.524 400.466 Q103.524 407.572 105.33 411.137 Q107.159 414.679 110.77 414.679 Q114.404 414.679 116.209 411.137 Q118.038 407.572 118.038 400.466 Q118.038 393.336 116.209 389.795 Q114.404 386.23 110.77 386.23 M110.77 382.526 Q116.58 382.526 119.635 387.133 Q122.714 391.716 122.714 400.466 Q122.714 409.193 119.635 413.799 Q116.58 418.383 110.77 418.383 Q104.959 418.383 101.881 413.799 Q98.8253 409.193 98.8253 400.466 Q98.8253 391.716 101.881 387.133 Q104.959 382.526 110.77 382.526 Z\" fill=\"#000000\" fill-rule=\"evenodd\" fill-opacity=\"1\" /><path clip-path=\"url(#clip580)\" d=\"M 0 0 M79.6124 163.393 Q82.9689 164.11 84.8439 166.379 Q86.742 168.647 86.742 171.981 Q86.742 177.097 83.2235 179.897 Q79.705 182.698 73.2236 182.698 Q71.0476 182.698 68.7328 182.259 Q66.4412 181.842 63.9875 180.985 L63.9875 176.472 Q65.9319 177.606 68.2467 178.184 Q70.5615 178.763 73.0847 178.763 Q77.4828 178.763 79.7744 177.027 Q82.0892 175.291 82.0892 171.981 Q82.0892 168.925 79.9365 167.212 Q77.8069 165.476 73.9874 165.476 L69.9597 165.476 L69.9597 161.634 L74.1726 161.634 Q77.6217 161.634 79.4504 160.268 Q81.2791 158.879 81.2791 156.286 Q81.2791 153.624 79.3809 152.212 Q77.5059 150.777 73.9874 150.777 Q72.0662 150.777 69.8671 151.194 Q67.668 151.611 65.0292 152.49 L65.0292 148.324 Q67.6912 147.583 70.006 147.212 Q72.3439 146.842 74.4041 146.842 Q79.7281 146.842 82.83 149.273 Q85.9318 151.68 85.9318 155.8 Q85.9318 158.671 84.2883 160.661 Q82.6448 162.629 79.6124 163.393 Z\" fill=\"#000000\" fill-rule=\"evenodd\" fill-opacity=\"1\" /><path clip-path=\"url(#clip580)\" d=\"M 0 0 M91.8114 176.147 L96.6956 176.147 L96.6956 182.027 L91.8114 182.027 L91.8114 176.147 Z\" fill=\"#000000\" fill-rule=\"evenodd\" fill-opacity=\"1\" /><path clip-path=\"url(#clip580)\" d=\"M 0 0 M101.811 147.467 L120.168 147.467 L120.168 151.402 L106.094 151.402 L106.094 159.874 Q107.112 159.527 108.131 159.365 Q109.149 159.18 110.168 159.18 Q115.955 159.18 119.334 162.351 Q122.714 165.523 122.714 170.939 Q122.714 176.518 119.242 179.62 Q115.77 182.698 109.45 182.698 Q107.274 182.698 105.006 182.328 Q102.76 181.958 100.353 181.217 L100.353 176.518 Q102.436 177.652 104.659 178.208 Q106.881 178.763 109.358 178.763 Q113.362 178.763 115.7 176.657 Q118.038 174.55 118.038 170.939 Q118.038 167.328 115.7 165.222 Q113.362 163.115 109.358 163.115 Q107.483 163.115 105.608 163.532 Q103.756 163.948 101.811 164.828 L101.811 147.467 Z\" fill=\"#000000\" fill-rule=\"evenodd\" fill-opacity=\"1\" /><path clip-path=\"url(#clip580)\" d=\"M 0 0 M1266.35 1520.4 L1253.46 1537.74 L1267.02 1556.04 L1260.11 1556.04 L1249.73 1542.04 L1239.36 1556.04 L1232.45 1556.04 L1246.3 1537.39 L1233.63 1520.4 L1240.54 1520.4 L1249.99 1533.1 L1259.44 1520.4 L1266.35 1520.4 Z\" fill=\"#000000\" fill-rule=\"evenodd\" fill-opacity=\"1\" /><polyline clip-path=\"url(#clip582)\" style=\"stroke:#009af9; stroke-width:8; stroke-opacity:1; fill:none\" points=\"\n",
       "  209.149,1343.17 235.493,1343.17 261.837,1343.16 288.181,1343.16 314.525,1343.15 340.869,1343.14 367.213,1343.13 393.557,1343.12 419.901,1343.11 446.245,1343.1 \n",
       "  472.589,1343.08 498.933,1343.06 525.277,1343.03 551.62,1343 577.964,1342.97 604.308,1342.92 630.652,1342.87 656.996,1342.8 683.34,1342.72 709.684,1342.62 \n",
       "  736.028,1342.5 762.372,1342.34 788.716,1342.15 815.06,1341.9 841.404,1341.58 867.748,1341.18 894.092,1340.65 920.436,1339.96 946.78,1339.04 973.124,1337.81 \n",
       "  999.467,1336.12 1025.81,1333.75 1052.16,1330.34 1078.5,1325.25 1104.84,1317.24 1131.19,1303.56 1157.53,1276.99 1183.88,1218.32 1210.22,1095.67 1236.56,912.617 \n",
       "  1262.91,729.885 1289.25,593.213 1315.59,507.104 1341.94,457.76 1368.28,430.826 1394.63,416.442 1420.97,408.814 1447.31,404.763 1473.66,402.599 1500,401.429 \n",
       "  1526.35,400.777 1552.69,400.412 1579.03,400.2 1605.38,400.073 1631.72,399.992 1658.07,399.938 1684.41,399.9 1710.75,399.873 1737.1,399.852 1763.44,399.836 \n",
       "  1789.79,399.825 1816.13,399.817 1842.47,399.812 1868.82,399.811 1895.16,399.812 1921.51,399.816 1947.85,399.822 1974.19,399.831 2000.54,399.841 2026.88,399.853 \n",
       "  2053.23,399.867 2079.57,399.882 2105.91,399.898 2132.26,399.915 2158.6,399.934 2184.94,399.955 2211.29,399.977 2237.63,400.008 2263.98,400.057 2290.32,400.431 \n",
       "  \n",
       "  \"/>\n",
       "<polyline clip-path=\"url(#clip582)\" style=\"stroke:#e26f46; stroke-width:8; stroke-opacity:1; fill:none\" points=\"\n",
       "  209.149,523.641 235.493,523.684 261.837,523.692 288.181,523.701 314.525,523.712 340.869,523.725 367.213,523.742 393.557,523.764 419.901,523.791 446.245,523.826 \n",
       "  472.589,523.868 498.933,523.918 525.277,523.98 551.62,524.054 577.964,524.145 604.308,524.256 630.652,524.391 656.996,524.556 683.34,524.759 709.684,525.008 \n",
       "  736.028,525.32 762.372,525.711 788.716,526.204 815.06,526.832 841.404,527.635 867.748,528.676 894.092,530.037 920.436,531.835 946.78,534.24 973.124,537.497 \n",
       "  999.467,541.962 1025.81,548.179 1052.16,556.958 1078.5,569.558 1104.84,588.187 1131.19,617.641 1157.53,670.277 1183.88,772.874 1210.22,939.254 1236.56,1112.38 \n",
       "  1262.91,1233.53 1289.25,1303.3 1315.59,1340.99 1341.94,1361.05 1368.28,1371.75 1394.63,1377.49 1420.97,1380.57 1447.31,1382.23 1473.66,1383.12 1500,1383.65 \n",
       "  1526.35,1383.89 1552.69,1384.03 1579.03,1384.1 1605.38,1384.15 1631.72,1384.17 1658.07,1384.19 1684.41,1384.2 1710.75,1384.2 1737.1,1384.21 1763.44,1384.21 \n",
       "  1789.79,1384.22 1816.13,1384.22 1842.47,1384.22 1868.82,1384.22 1895.16,1384.23 1921.51,1384.23 1947.85,1384.23 1974.19,1384.23 2000.54,1384.23 2026.88,1384.23 \n",
       "  2053.23,1384.23 2079.57,1384.23 2105.91,1384.23 2132.26,1384.23 2158.6,1384.24 2184.94,1384.24 2211.29,1384.24 2237.63,1384.24 2263.98,1384.23 2290.32,1384.24 \n",
       "  \n",
       "  \"/>\n",
       "<polyline clip-path=\"url(#clip582)\" style=\"stroke:#3da44d; stroke-width:8; stroke-opacity:1; fill:none\" points=\"\n",
       "  209.149,1343.17 235.493,1343.28 261.837,1343.22 288.181,1343.15 314.525,1343.09 340.869,1343.03 367.213,1342.97 393.557,1342.91 419.901,1342.85 446.245,1342.77 \n",
       "  472.589,1342.68 498.933,1342.57 525.277,1342.44 551.62,1342.29 577.964,1342.1 604.308,1341.87 630.652,1341.59 656.996,1341.25 683.34,1340.83 709.684,1340.32 \n",
       "  736.028,1339.68 762.372,1338.87 788.716,1337.82 815.06,1336.47 841.404,1334.7 867.748,1332.33 894.092,1329.11 920.436,1324.68 946.78,1318.54 973.124,1309.95 \n",
       "  999.467,1297.86 1025.81,1280.84 1052.16,1257.1 1078.5,1224.82 1104.84,1182.07 1131.19,1124.61 1157.53,1035.54 1183.88,870.254 1210.22,617.082 1236.56,382.841 \n",
       "  1262.91,238.092 1289.25,161.947 1315.59,123.687 1341.94,104.823 1368.28,95.6458 1394.63,91.2203 1420.97,89.0861 1447.31,88.0412 1473.66,87.5128 1500,87.3368 \n",
       "  1526.35,87.1125 1552.69,86.9972 1579.03,86.9408 1605.38,86.9155 1631.72,86.9053 1658.07,86.904 1684.41,86.9068 1710.75,86.9099 1737.1,86.9119 1763.44,86.9131 \n",
       "  1789.79,86.9119 1816.13,86.9087 1842.47,86.904 1868.82,86.8965 1895.16,86.8866 1921.51,86.8744 1947.85,86.86 1974.19,86.8431 2000.54,86.824 2026.88,86.8021 \n",
       "  2053.23,86.7793 2079.57,86.7549 2105.91,86.7302 2132.26,86.7032 2158.6,86.6756 2184.94,86.6441 2211.29,86.6105 2237.63,86.5709 2263.98,86.5125 2290.32,86.1857 \n",
       "  \n",
       "  \"/>\n",
       "<path clip-path=\"url(#clip580)\" d=\"\n",
       "M1757.46 335.029 L2279.22 335.029 L2279.22 93.1086 L1757.46 93.1086  Z\n",
       "  \" fill=\"#ffffff\" fill-rule=\"evenodd\" fill-opacity=\"1\"/>\n",
       "<polyline clip-path=\"url(#clip580)\" style=\"stroke:#000000; stroke-width:4; stroke-opacity:1; fill:none\" points=\"\n",
       "  1757.46,335.029 2279.22,335.029 2279.22,93.1086 1757.46,93.1086 1757.46,335.029 \n",
       "  \"/>\n",
       "<polyline clip-path=\"url(#clip580)\" style=\"stroke:#009af9; stroke-width:4; stroke-opacity:1; fill:none\" points=\"\n",
       "  1781.97,153.589 1929.04,153.589 \n",
       "  \"/>\n",
       "<path clip-path=\"url(#clip580)\" d=\"M 0 0 M1958.23 140.151 L1958.23 167.026 L1963.88 167.026 Q1971.03 167.026 1974.34 163.785 Q1977.68 160.545 1977.68 153.554 Q1977.68 146.609 1974.34 143.392 Q1971.03 140.151 1963.88 140.151 L1958.23 140.151 M1953.56 136.309 L1963.16 136.309 Q1973.21 136.309 1977.91 140.498 Q1982.61 144.665 1982.61 153.554 Q1982.61 162.489 1977.88 166.679 Q1973.16 170.869 1963.16 170.869 L1953.56 170.869 L1953.56 136.309 Z\" fill=\"#000000\" fill-rule=\"evenodd\" fill-opacity=\"1\" /><path clip-path=\"url(#clip580)\" d=\"M 0 0 M2009.25 156.841 L2009.25 158.924 L1989.67 158.924 Q1989.94 163.322 1992.31 165.637 Q1994.69 167.929 1998.93 167.929 Q2001.38 167.929 2003.67 167.327 Q2005.99 166.725 2008.25 165.521 L2008.25 169.549 Q2005.96 170.521 2003.56 171.031 Q2001.15 171.54 1998.67 171.54 Q1992.47 171.54 1988.83 167.929 Q1985.22 164.318 1985.22 158.16 Q1985.22 151.795 1988.65 148.068 Q1992.1 144.318 1997.93 144.318 Q2003.16 144.318 2006.19 147.697 Q2009.25 151.054 2009.25 156.841 M2004.99 155.591 Q2004.94 152.096 2003.02 150.012 Q2001.13 147.929 1997.98 147.929 Q1994.41 147.929 1992.26 149.943 Q1990.13 151.957 1989.81 155.614 L2004.99 155.591 Z\" fill=\"#000000\" fill-rule=\"evenodd\" fill-opacity=\"1\" /><path clip-path=\"url(#clip580)\" d=\"M 0 0 M2035.27 155.221 L2035.27 170.869 L2031.01 170.869 L2031.01 155.359 Q2031.01 151.679 2029.57 149.85 Q2028.14 148.022 2025.27 148.022 Q2021.82 148.022 2019.83 150.221 Q2017.84 152.42 2017.84 156.216 L2017.84 170.869 L2013.56 170.869 L2013.56 144.943 L2017.84 144.943 L2017.84 148.971 Q2019.37 146.633 2021.43 145.475 Q2023.51 144.318 2026.22 144.318 Q2030.69 144.318 2032.98 147.096 Q2035.27 149.85 2035.27 155.221 Z\" fill=\"#000000\" fill-rule=\"evenodd\" fill-opacity=\"1\" /><path clip-path=\"url(#clip580)\" d=\"M 0 0 M2056.26 145.707 L2056.26 149.734 Q2054.46 148.809 2052.51 148.346 Q2050.57 147.883 2048.49 147.883 Q2045.31 147.883 2043.72 148.855 Q2042.14 149.827 2042.14 151.771 Q2042.14 153.253 2043.28 154.109 Q2044.41 154.943 2047.84 155.707 L2049.3 156.031 Q2053.83 157.003 2055.73 158.785 Q2057.65 160.545 2057.65 163.716 Q2057.65 167.327 2054.78 169.433 Q2051.94 171.54 2046.94 171.54 Q2044.85 171.54 2042.58 171.123 Q2040.34 170.73 2037.84 169.92 L2037.84 165.521 Q2040.2 166.748 2042.49 167.373 Q2044.78 167.975 2047.03 167.975 Q2050.04 167.975 2051.66 166.957 Q2053.28 165.915 2053.28 164.04 Q2053.28 162.304 2052.1 161.378 Q2050.94 160.452 2046.98 159.596 L2045.5 159.248 Q2041.54 158.415 2039.78 156.702 Q2038.02 154.966 2038.02 151.957 Q2038.02 148.299 2040.62 146.309 Q2043.21 144.318 2047.98 144.318 Q2050.34 144.318 2052.42 144.665 Q2054.5 145.012 2056.26 145.707 Z\" fill=\"#000000\" fill-rule=\"evenodd\" fill-opacity=\"1\" /><path clip-path=\"url(#clip580)\" d=\"M 0 0 M2062.12 144.943 L2066.38 144.943 L2066.38 170.869 L2062.12 170.869 L2062.12 144.943 M2062.12 134.85 L2066.38 134.85 L2066.38 140.244 L2062.12 140.244 L2062.12 134.85 Z\" fill=\"#000000\" fill-rule=\"evenodd\" fill-opacity=\"1\" /><path clip-path=\"url(#clip580)\" d=\"M 0 0 M2075.06 137.582 L2075.06 144.943 L2083.83 144.943 L2083.83 148.253 L2075.06 148.253 L2075.06 162.327 Q2075.06 165.498 2075.92 166.401 Q2076.8 167.304 2079.46 167.304 L2083.83 167.304 L2083.83 170.869 L2079.46 170.869 Q2074.53 170.869 2072.65 169.04 Q2070.78 167.188 2070.78 162.327 L2070.78 148.253 L2067.65 148.253 L2067.65 144.943 L2070.78 144.943 L2070.78 137.582 L2075.06 137.582 Z\" fill=\"#000000\" fill-rule=\"evenodd\" fill-opacity=\"1\" /><path clip-path=\"url(#clip580)\" d=\"M 0 0 M2099.09 173.276 Q2097.28 177.906 2095.57 179.318 Q2093.86 180.73 2090.99 180.73 L2087.58 180.73 L2087.58 177.165 L2090.08 177.165 Q2091.84 177.165 2092.81 176.332 Q2093.79 175.498 2094.97 172.396 L2095.73 170.452 L2085.25 144.943 L2089.76 144.943 L2097.86 165.221 L2105.96 144.943 L2110.48 144.943 L2099.09 173.276 Z\" fill=\"#000000\" fill-rule=\"evenodd\" fill-opacity=\"1\" /><polyline clip-path=\"url(#clip580)\" style=\"stroke:#e26f46; stroke-width:4; stroke-opacity:1; fill:none\" points=\"\n",
       "  1781.97,214.069 1929.04,214.069 \n",
       "  \"/>\n",
       "<path clip-path=\"url(#clip580)\" d=\"M 0 0 M1966.75 231.349 L1953.56 196.789 L1958.44 196.789 L1969.39 225.886 L1980.36 196.789 L1985.22 196.789 L1972.05 231.349 L1966.75 231.349 Z\" fill=\"#000000\" fill-rule=\"evenodd\" fill-opacity=\"1\" /><path clip-path=\"url(#clip580)\" d=\"M 0 0 M2008.19 217.321 L2008.19 219.404 L1988.6 219.404 Q1988.88 223.802 1991.24 226.117 Q1993.63 228.409 1997.86 228.409 Q2000.31 228.409 2002.61 227.807 Q2004.92 227.205 2007.19 226.001 L2007.19 230.029 Q2004.9 231.001 2002.49 231.511 Q2000.08 232.02 1997.61 232.02 Q1991.4 232.02 1987.77 228.409 Q1984.16 224.798 1984.16 218.64 Q1984.16 212.275 1987.58 208.548 Q1991.03 204.798 1996.87 204.798 Q2002.1 204.798 2005.13 208.177 Q2008.19 211.534 2008.19 217.321 M2003.93 216.071 Q2003.88 212.576 2001.96 210.492 Q2000.06 208.409 1996.91 208.409 Q1993.35 208.409 1991.19 210.423 Q1989.07 212.437 1988.74 216.094 L2003.93 216.071 Z\" fill=\"#000000\" fill-rule=\"evenodd\" fill-opacity=\"1\" /><path clip-path=\"url(#clip580)\" d=\"M 0 0 M2012.65 195.33 L2016.91 195.33 L2016.91 231.349 L2012.65 231.349 L2012.65 195.33 Z\" fill=\"#000000\" fill-rule=\"evenodd\" fill-opacity=\"1\" /><path clip-path=\"url(#clip580)\" d=\"M 0 0 M2031.43 208.409 Q2028 208.409 2026.01 211.094 Q2024.02 213.756 2024.02 218.409 Q2024.02 223.062 2025.99 225.747 Q2027.98 228.409 2031.43 228.409 Q2034.83 228.409 2036.82 225.724 Q2038.81 223.038 2038.81 218.409 Q2038.81 213.802 2036.82 211.117 Q2034.83 208.409 2031.43 208.409 M2031.43 204.798 Q2036.98 204.798 2040.15 208.409 Q2043.32 212.02 2043.32 218.409 Q2043.32 224.775 2040.15 228.409 Q2036.98 232.02 2031.43 232.02 Q2025.85 232.02 2022.68 228.409 Q2019.53 224.775 2019.53 218.409 Q2019.53 212.02 2022.68 208.409 Q2025.85 204.798 2031.43 204.798 Z\" fill=\"#000000\" fill-rule=\"evenodd\" fill-opacity=\"1\" /><path clip-path=\"url(#clip580)\" d=\"M 0 0 M2066.45 206.418 L2066.45 210.4 Q2064.64 209.404 2062.81 208.918 Q2061.01 208.409 2059.16 208.409 Q2055.01 208.409 2052.72 211.048 Q2050.43 213.664 2050.43 218.409 Q2050.43 223.154 2052.72 225.793 Q2055.01 228.409 2059.16 228.409 Q2061.01 228.409 2062.81 227.923 Q2064.64 227.413 2066.45 226.418 L2066.45 230.353 Q2064.67 231.187 2062.75 231.603 Q2060.85 232.02 2058.69 232.02 Q2052.84 232.02 2049.39 228.339 Q2045.94 224.659 2045.94 218.409 Q2045.94 212.066 2049.41 208.432 Q2052.91 204.798 2058.97 204.798 Q2060.94 204.798 2062.81 205.215 Q2064.69 205.608 2066.45 206.418 Z\" fill=\"#000000\" fill-rule=\"evenodd\" fill-opacity=\"1\" /><path clip-path=\"url(#clip580)\" d=\"M 0 0 M2070.92 205.423 L2075.18 205.423 L2075.18 231.349 L2070.92 231.349 L2070.92 205.423 M2070.92 195.33 L2075.18 195.33 L2075.18 200.724 L2070.92 200.724 L2070.92 195.33 Z\" fill=\"#000000\" fill-rule=\"evenodd\" fill-opacity=\"1\" /><path clip-path=\"url(#clip580)\" d=\"M 0 0 M2083.86 198.062 L2083.86 205.423 L2092.63 205.423 L2092.63 208.733 L2083.86 208.733 L2083.86 222.807 Q2083.86 225.978 2084.71 226.881 Q2085.59 227.784 2088.25 227.784 L2092.63 227.784 L2092.63 231.349 L2088.25 231.349 Q2083.32 231.349 2081.45 229.52 Q2079.57 227.668 2079.57 222.807 L2079.57 208.733 L2076.45 208.733 L2076.45 205.423 L2079.57 205.423 L2079.57 198.062 L2083.86 198.062 Z\" fill=\"#000000\" fill-rule=\"evenodd\" fill-opacity=\"1\" /><path clip-path=\"url(#clip580)\" d=\"M 0 0 M2107.88 233.756 Q2106.08 238.386 2104.37 239.798 Q2102.65 241.21 2099.78 241.21 L2096.38 241.21 L2096.38 237.645 L2098.88 237.645 Q2100.64 237.645 2101.61 236.812 Q2102.58 235.978 2103.76 232.876 L2104.53 230.932 L2094.04 205.423 L2098.56 205.423 L2106.66 225.701 L2114.76 205.423 L2119.27 205.423 L2107.88 233.756 Z\" fill=\"#000000\" fill-rule=\"evenodd\" fill-opacity=\"1\" /><polyline clip-path=\"url(#clip580)\" style=\"stroke:#3da44d; stroke-width:4; stroke-opacity:1; fill:none\" points=\"\n",
       "  1781.97,274.549 1929.04,274.549 \n",
       "  \"/>\n",
       "<path clip-path=\"url(#clip580)\" d=\"M 0 0 M1953.56 257.269 L1982.79 257.269 L1982.79 261.204 L1970.52 261.204 L1970.52 291.829 L1965.82 291.829 L1965.82 261.204 L1953.56 261.204 L1953.56 257.269 Z\" fill=\"#000000\" fill-rule=\"evenodd\" fill-opacity=\"1\" /><path clip-path=\"url(#clip580)\" d=\"M 0 0 M2001.38 277.801 L2001.38 279.884 L1981.8 279.884 Q1982.07 284.282 1984.44 286.597 Q1986.82 288.889 1991.06 288.889 Q1993.51 288.889 1995.8 288.287 Q1998.12 287.685 2000.38 286.481 L2000.38 290.509 Q1998.09 291.481 1995.69 291.991 Q1993.28 292.5 1990.8 292.5 Q1984.6 292.5 1980.96 288.889 Q1977.35 285.278 1977.35 279.12 Q1977.35 272.755 1980.78 269.028 Q1984.23 265.278 1990.06 265.278 Q1995.29 265.278 1998.32 268.657 Q2001.38 272.014 2001.38 277.801 M1997.12 276.551 Q1997.07 273.056 1995.15 270.972 Q1993.25 268.889 1990.11 268.889 Q1986.54 268.889 1984.39 270.903 Q1982.26 272.917 1981.94 276.574 L1997.12 276.551 Z\" fill=\"#000000\" fill-rule=\"evenodd\" fill-opacity=\"1\" /><path clip-path=\"url(#clip580)\" d=\"M 0 0 M2026.03 270.88 Q2027.63 268.009 2029.85 266.644 Q2032.07 265.278 2035.08 265.278 Q2039.13 265.278 2041.33 268.125 Q2043.53 270.949 2043.53 276.181 L2043.53 291.829 L2039.25 291.829 L2039.25 276.319 Q2039.25 272.593 2037.93 270.787 Q2036.61 268.982 2033.9 268.982 Q2030.59 268.982 2028.67 271.181 Q2026.75 273.38 2026.75 277.176 L2026.75 291.829 L2022.47 291.829 L2022.47 276.319 Q2022.47 272.569 2021.15 270.787 Q2019.83 268.982 2017.07 268.982 Q2013.81 268.982 2011.89 271.204 Q2009.97 273.403 2009.97 277.176 L2009.97 291.829 L2005.69 291.829 L2005.69 265.903 L2009.97 265.903 L2009.97 269.931 Q2011.43 267.546 2013.46 266.412 Q2015.5 265.278 2018.3 265.278 Q2021.13 265.278 2023.09 266.713 Q2025.08 268.148 2026.03 270.88 Z\" fill=\"#000000\" fill-rule=\"evenodd\" fill-opacity=\"1\" /><path clip-path=\"url(#clip580)\" d=\"M 0 0 M2052.12 287.94 L2052.12 301.69 L2047.84 301.69 L2047.84 265.903 L2052.12 265.903 L2052.12 269.838 Q2053.46 267.523 2055.5 266.412 Q2057.56 265.278 2060.41 265.278 Q2065.13 265.278 2068.07 269.028 Q2071.03 272.778 2071.03 278.889 Q2071.03 285 2068.07 288.75 Q2065.13 292.5 2060.41 292.5 Q2057.56 292.5 2055.5 291.389 Q2053.46 290.255 2052.12 287.94 M2066.61 278.889 Q2066.61 274.19 2064.67 271.528 Q2062.75 268.843 2059.37 268.843 Q2055.99 268.843 2054.04 271.528 Q2052.12 274.19 2052.12 278.889 Q2052.12 283.588 2054.04 286.273 Q2055.99 288.935 2059.37 288.935 Q2062.75 288.935 2064.67 286.273 Q2066.61 283.588 2066.61 278.889 Z\" fill=\"#000000\" fill-rule=\"evenodd\" fill-opacity=\"1\" /><path clip-path=\"url(#clip580)\" d=\"M 0 0 M2097.68 277.801 L2097.68 279.884 L2078.09 279.884 Q2078.37 284.282 2080.73 286.597 Q2083.12 288.889 2087.35 288.889 Q2089.81 288.889 2092.1 288.287 Q2094.41 287.685 2096.68 286.481 L2096.68 290.509 Q2094.39 291.481 2091.98 291.991 Q2089.57 292.5 2087.1 292.5 Q2080.89 292.5 2077.26 288.889 Q2073.65 285.278 2073.65 279.12 Q2073.65 272.755 2077.07 269.028 Q2080.52 265.278 2086.36 265.278 Q2091.59 265.278 2094.62 268.657 Q2097.68 272.014 2097.68 277.801 M2093.42 276.551 Q2093.37 273.056 2091.45 270.972 Q2089.55 268.889 2086.4 268.889 Q2082.84 268.889 2080.68 270.903 Q2078.56 272.917 2078.23 276.574 L2093.42 276.551 Z\" fill=\"#000000\" fill-rule=\"evenodd\" fill-opacity=\"1\" /><path clip-path=\"url(#clip580)\" d=\"M 0 0 M2117.17 269.884 Q2116.45 269.468 2115.59 269.282 Q2114.76 269.074 2113.74 269.074 Q2110.13 269.074 2108.18 271.435 Q2106.26 273.773 2106.26 278.171 L2106.26 291.829 L2101.98 291.829 L2101.98 265.903 L2106.26 265.903 L2106.26 269.931 Q2107.61 267.569 2109.76 266.435 Q2111.91 265.278 2114.99 265.278 Q2115.43 265.278 2115.96 265.347 Q2116.49 265.394 2117.14 265.509 L2117.17 269.884 Z\" fill=\"#000000\" fill-rule=\"evenodd\" fill-opacity=\"1\" /><path clip-path=\"url(#clip580)\" d=\"M 0 0 M2133.42 278.796 Q2128.25 278.796 2126.26 279.977 Q2124.27 281.157 2124.27 284.005 Q2124.27 286.273 2125.75 287.616 Q2127.26 288.935 2129.83 288.935 Q2133.37 288.935 2135.5 286.435 Q2137.65 283.912 2137.65 279.745 L2137.65 278.796 L2133.42 278.796 M2141.91 277.037 L2141.91 291.829 L2137.65 291.829 L2137.65 287.893 Q2136.19 290.255 2134.02 291.389 Q2131.84 292.5 2128.69 292.5 Q2124.71 292.5 2122.35 290.278 Q2120.01 288.032 2120.01 284.282 Q2120.01 279.907 2122.93 277.685 Q2125.87 275.463 2131.68 275.463 L2137.65 275.463 L2137.65 275.046 Q2137.65 272.107 2135.71 270.509 Q2133.79 268.889 2130.29 268.889 Q2128.07 268.889 2125.96 269.421 Q2123.86 269.954 2121.91 271.019 L2121.91 267.083 Q2124.25 266.181 2126.45 265.741 Q2128.65 265.278 2130.73 265.278 Q2136.36 265.278 2139.13 268.194 Q2141.91 271.111 2141.91 277.037 Z\" fill=\"#000000\" fill-rule=\"evenodd\" fill-opacity=\"1\" /><path clip-path=\"url(#clip580)\" d=\"M 0 0 M2150.59 258.542 L2150.59 265.903 L2159.37 265.903 L2159.37 269.213 L2150.59 269.213 L2150.59 283.287 Q2150.59 286.458 2151.45 287.361 Q2152.33 288.264 2154.99 288.264 L2159.37 288.264 L2159.37 291.829 L2154.99 291.829 Q2150.06 291.829 2148.18 290 Q2146.31 288.148 2146.31 283.287 L2146.31 269.213 L2143.18 269.213 L2143.18 265.903 L2146.31 265.903 L2146.31 258.542 L2150.59 258.542 Z\" fill=\"#000000\" fill-rule=\"evenodd\" fill-opacity=\"1\" /><path clip-path=\"url(#clip580)\" d=\"M 0 0 M2163.39 281.597 L2163.39 265.903 L2167.65 265.903 L2167.65 281.435 Q2167.65 285.116 2169.09 286.968 Q2170.52 288.796 2173.39 288.796 Q2176.84 288.796 2178.83 286.597 Q2180.85 284.398 2180.85 280.602 L2180.85 265.903 L2185.11 265.903 L2185.11 291.829 L2180.85 291.829 L2180.85 287.847 Q2179.3 290.208 2177.24 291.366 Q2175.2 292.5 2172.49 292.5 Q2168.02 292.5 2165.71 289.722 Q2163.39 286.944 2163.39 281.597 M2174.11 265.278 L2174.11 265.278 Z\" fill=\"#000000\" fill-rule=\"evenodd\" fill-opacity=\"1\" /><path clip-path=\"url(#clip580)\" d=\"M 0 0 M2204.6 269.884 Q2203.88 269.468 2203.02 269.282 Q2202.19 269.074 2201.17 269.074 Q2197.56 269.074 2195.61 271.435 Q2193.69 273.773 2193.69 278.171 L2193.69 291.829 L2189.41 291.829 L2189.41 265.903 L2193.69 265.903 L2193.69 269.931 Q2195.04 267.569 2197.19 266.435 Q2199.34 265.278 2202.42 265.278 Q2202.86 265.278 2203.39 265.347 Q2203.93 265.394 2204.57 265.509 L2204.6 269.884 Z\" fill=\"#000000\" fill-rule=\"evenodd\" fill-opacity=\"1\" /><path clip-path=\"url(#clip580)\" d=\"M 0 0 M2230.2 277.801 L2230.2 279.884 L2210.61 279.884 Q2210.89 284.282 2213.25 286.597 Q2215.64 288.889 2219.87 288.889 Q2222.33 288.889 2224.62 288.287 Q2226.93 287.685 2229.2 286.481 L2229.2 290.509 Q2226.91 291.481 2224.5 291.991 Q2222.1 292.5 2219.62 292.5 Q2213.42 292.5 2209.78 288.889 Q2206.17 285.278 2206.17 279.12 Q2206.17 272.755 2209.6 269.028 Q2213.05 265.278 2218.88 265.278 Q2224.11 265.278 2227.14 268.657 Q2230.2 272.014 2230.2 277.801 M2225.94 276.551 Q2225.89 273.056 2223.97 270.972 Q2222.07 268.889 2218.92 268.889 Q2215.36 268.889 2213.21 270.903 Q2211.08 272.917 2210.75 276.574 L2225.94 276.551 Z\" fill=\"#000000\" fill-rule=\"evenodd\" fill-opacity=\"1\" /></svg>\n"
      ]
     },
     "metadata": {},
     "output_type": "display_data"
    }
   ],
   "source": [
    "plot_line(ks, ctr)"
   ]
  },
  {
   "cell_type": "code",
   "execution_count": 63,
   "metadata": {},
   "outputs": [
    {
     "name": "stderr",
     "output_type": "stream",
     "text": [
      "\u001b[32mloss: 2.06e-05: 100%|█████████████████████████████████████████| Time: 0:00:58\u001b[39m\n"
     ]
    },
    {
     "data": {
      "text/plain": [
       " * Status: success\n",
       "\n",
       " * Candidate solution\n",
       "    Final objective value:     2.063586e-05\n",
       "\n",
       " * Found with\n",
       "    Algorithm:     ADAM\n",
       "\n",
       " * Convergence measures\n",
       "    |x - x'|               = NaN ≰ 0.0e+00\n",
       "    |x - x'|/|x'|          = NaN ≰ 0.0e+00\n",
       "    |f(x) - f(x')|         = NaN ≰ 0.0e+00\n",
       "    |f(x) - f(x')|/|f(x')| = NaN ≰ 0.0e+00\n",
       "    |g(x)|                 = NaN ≰ 0.0e+00\n",
       "\n",
       " * Work counters\n",
       "    Seconds run:   59  (vs limit Inf)\n",
       "    Iterations:    100\n",
       "    f(x) calls:    100\n",
       "    ∇f(x) calls:   100\n"
      ]
     },
     "execution_count": 63,
     "metadata": {},
     "output_type": "execute_result"
    }
   ],
   "source": [
    "X, Y, H, B, M, τ = generate_data(ks, ctr)\n",
    "res = DiffEqFlux.sciml_train(loss, res.minimizer, ADAM(0.001), cb=Flux.throttle(cb, 1), maxiters=100, save_best=true)"
   ]
  },
  {
   "cell_type": "code",
   "execution_count": null,
   "metadata": {},
   "outputs": [],
   "source": []
  }
 ],
 "metadata": {
  "kernelspec": {
   "display_name": "Julia 1.4.2",
   "language": "julia",
   "name": "julia-1.4"
  },
  "language_info": {
   "file_extension": ".jl",
   "mimetype": "application/julia",
   "name": "julia",
   "version": "1.4.2"
  }
 },
 "nbformat": 4,
 "nbformat_minor": 4
}

{
 "cells": [
  {
   "cell_type": "code",
   "execution_count": 1,
   "metadata": {},
   "outputs": [
    {
     "name": "stderr",
     "output_type": "stream",
     "text": [
      "┌ Info: Precompiling OrdinaryDiffEq [1dea7af3-3e70-54e6-95c3-0bf5283fa5ed]\n",
      "└ @ Base loading.jl:1260\n",
      "┌ Info: Precompiling Flux [587475ba-b771-5e3f-ad9e-33799f191a9c]\n",
      "└ @ Base loading.jl:1260\n",
      "ERROR: LoadError: ArgumentError: Package Flux does not have CuArrays in its dependencies:\n",
      "- If you have Flux checked out for development and have\n",
      "  added CuArrays as a dependency but haven't updated your primary\n",
      "  environment's manifest file, try `Pkg.resolve()`.\n",
      "- Otherwise you may need to report an issue with Flux\n",
      "Stacktrace:\n",
      " [1] require(::Module, ::Symbol) at ./loading.jl:905\n",
      " [2] include(::Module, ::String) at ./Base.jl:377\n",
      " [3] top-level scope at none:2\n",
      " [4] eval at ./boot.jl:331 [inlined]\n",
      " [5] eval(::Expr) at ./client.jl:449\n",
      " [6] top-level scope at ./none:3\n",
      "in expression starting at /home/vavrines/.julia/packages/Flux/Fj3bt/src/Flux.jl:26\n"
     ]
    },
    {
     "ename": "ErrorException",
     "evalue": "Failed to precompile Flux [587475ba-b771-5e3f-ad9e-33799f191a9c] to /home/vavrines/.julia/compiled/v1.4/Flux/QdkVy_6HVpI.ji.",
     "output_type": "error",
     "traceback": [
      "Failed to precompile Flux [587475ba-b771-5e3f-ad9e-33799f191a9c] to /home/vavrines/.julia/compiled/v1.4/Flux/QdkVy_6HVpI.ji.",
      "",
      "Stacktrace:",
      " [1] error(::String) at ./error.jl:33",
      " [2] compilecache(::Base.PkgId, ::String) at ./loading.jl:1272",
      " [3] _require(::Base.PkgId) at ./loading.jl:1029",
      " [4] require(::Base.PkgId) at ./loading.jl:927",
      " [5] require(::Module, ::Symbol) at ./loading.jl:922",
      " [6] top-level scope at In[1]:1"
     ]
    }
   ],
   "source": [
    "using Revise, OrdinaryDiffEq, Flux, DiffEqFlux, Optim\n",
    "using Plots, FileIO, JLD2, OffsetArrays, ProgressMeter, Kinetic"
   ]
  },
  {
   "cell_type": "code",
   "execution_count": 2,
   "metadata": {},
   "outputs": [
    {
     "name": "stdout",
     "output_type": "stream",
     "text": [
      "case = shock\n",
      "space = 1d2f1v\n",
      "nSpecies = 1\n",
      "interpOrder = 1\n",
      "limiter = vanleer\n",
      "cfl = 0.7\n",
      "maxTime = 250.0\n",
      "x0 = -25.0\n",
      "x1 = 25.0\n",
      "nx = 80\n",
      "pMeshType = uniform\n",
      "nxg = 1\n",
      "umin = -10.0\n",
      "umax = 10.0\n",
      "nu = 64\n",
      "nug = 0\n",
      "vmin = -10.0\n",
      "vmax = 10.0\n",
      "nv = 28\n",
      "nvg = 0\n",
      "wmin = -10.0\n",
      "wmax = 10.0\n",
      "nw = 28\n",
      "nwg = 0\n",
      "vMeshType = rectangle\n",
      "knudsen = 1.0\n",
      "mach = 3.0\n",
      "prandtl = 0.6666667\n",
      "inK = 2\n",
      "omega = 0.5\n",
      "alphaRef = 1.0\n",
      "omegaRef = 0.5\n",
      "nm = 5\n",
      "tLen = 3\n",
      "nh = 12\n",
      "\n"
     ]
    }
   ],
   "source": [
    "config = \"config.txt\"\n",
    "D = read_dict(config)\n",
    "for key in keys(D)\n",
    "    s = Symbol(key)\n",
    "    @eval $s = $(D[key])\n",
    "end"
   ]
  },
  {
   "cell_type": "code",
   "execution_count": 3,
   "metadata": {},
   "outputs": [
    {
     "data": {
      "text/plain": [
       "0.0f0:0.018620167f0:0.037240334f0"
      ]
     },
     "execution_count": 3,
     "metadata": {},
     "output_type": "execute_result"
    }
   ],
   "source": [
    "γ = heat_capacity_ratio(inK, 1)\n",
    "set = Setup(case, space, nSpecies, interpOrder, limiter, cfl, maxTime)\n",
    "pSpace = PSpace1D(x0, x1, nx, pMeshType, nxg)\n",
    "μᵣ = ref_vhs_vis(knudsen, alphaRef, omegaRef)\n",
    "gas = GasProperty(knudsen, mach, prandtl, inK, γ, omega, alphaRef, omegaRef, μᵣ)\n",
    "vSpace = VSpace1D(umin, umax, nu, vMeshType)\n",
    "vSpace2D = VSpace2D(vmin, vmax, nv, wmin, wmax, nw, vMeshType)\n",
    "vSpace3D = VSpace3D(umin, umax, nu, vmin, vmax, nv, wmin, wmax, nw, vMeshType)\n",
    "wL, primL, hL, bL, bcL, wR, primR, hR, bR, bcR = ib_rh(mach, γ, vSpace.u, inK)\n",
    "ib = IB2F(wL, primL, hL, bL, bcL, wR, primR, hR, bR, bcR)\n",
    "ks = SolverSet(set, pSpace, vSpace, gas, ib, pwd())\n",
    "\n",
    "kn_bzm = hs_boltz_kn(ks.gas.μᵣ, 1.0)\n",
    "sos = sound_speed(ks.ib.primR, γ)\n",
    "tmax = (ks.vSpace.u1 + sos) / ks.pSpace.dx[1]\n",
    "dt = Float32(ks.set.cfl / tmax)\n",
    "tspan = (0.f0, dt)\n",
    "tran = range(tspan[1], tspan[2], length = tLen)"
   ]
  },
  {
   "cell_type": "code",
   "execution_count": 4,
   "metadata": {},
   "outputs": [],
   "source": [
    "ctr = OffsetArray{ControlVolume1D2F}(undef, eachindex(ks.pSpace.x))\n",
    "face = Array{Interface1D2F}(undef, ks.pSpace.nx + 1)\n",
    "for i in eachindex(ctr)\n",
    "    if i <= ks.pSpace.nx ÷ 2\n",
    "        ctr[i] = ControlVolume1D2F(\n",
    "            ks.pSpace.x[i],\n",
    "            ks.pSpace.dx[i],\n",
    "            Float32.(ks.ib.wL),\n",
    "            Float32.(ks.ib.primL),\n",
    "            Float32.(ks.ib.hL),\n",
    "            Float32.(ks.ib.bL),\n",
    "        )\n",
    "    else\n",
    "        ctr[i] = ControlVolume1D2F(\n",
    "            ks.pSpace.x[i],\n",
    "            ks.pSpace.dx[i],\n",
    "            Float32.(ks.ib.wR),\n",
    "            Float32.(ks.ib.primR),\n",
    "            Float32.(ks.ib.hR),\n",
    "            Float32.(ks.ib.bR),\n",
    "        )\n",
    "    end\n",
    "end\n",
    "for i = 1:ks.pSpace.nx+1\n",
    "    face[i] = Interface1D2F(ks.ib.wL, ks.ib.hL)\n",
    "end"
   ]
  },
  {
   "cell_type": "code",
   "execution_count": 5,
   "metadata": {},
   "outputs": [
    {
     "name": "stderr",
     "output_type": "stream",
     "text": [
      "\u001b[32mProgress: 100%|█████████████████████████████████████████| Time: 0:00:07\u001b[39m\n"
     ]
    }
   ],
   "source": [
    "sumRes = zeros(3)\n",
    "@showprogress for iter = 1:2000\n",
    "    Kinetic.evolve!(ks, ctr, face, dt)\n",
    "    Kinetic.update!(ks, ctr, face, dt, sumRes)\n",
    "end"
   ]
  },
  {
   "cell_type": "code",
   "execution_count": 6,
   "metadata": {},
   "outputs": [
    {
     "data": {
      "text/plain": [
       "generate_data (generic function with 1 method)"
      ]
     },
     "execution_count": 6,
     "metadata": {},
     "output_type": "execute_result"
    }
   ],
   "source": [
    "function shakhov!(df, f, p, t)\n",
    "    H, B, tau = p\n",
    "    df[1:end÷2, :] .= (H .- f[1:end÷2, :]) ./ tau\n",
    "    df[end÷2+1:end, :] .= (B .- f[end÷2+1:end, :]) ./ tau\n",
    "end\n",
    "\n",
    "function generate_data(ks, ctr)\n",
    "    nx = ks.pSpace.nx\n",
    "    nu = ks.vSpace.nu\n",
    "    \n",
    "    X = Array{Float32}(undef, nu * 2, nx)\n",
    "    for i = 1:nx\n",
    "        X[1:nu, i] .= ctr[i].h\n",
    "        X[nu+1:end, i] .= ctr[i].b\n",
    "    end\n",
    "    \n",
    "    H = Array{Float32}(undef, nu, size(X, 2))\n",
    "    B = Array{Float32}(undef, nu, size(X, 2))\n",
    "    SH = Array{Float32}(undef, nu, size(X, 2))\n",
    "    SB = Array{Float32}(undef, nu, size(X, 2))\n",
    "    τ = Array{Float32}(undef, 1, size(X, 2))\n",
    "    for i in axes(X, 2)\n",
    "        H[:, i] .= maxwellian(ks.vSpace.u, ctr[i].prim)\n",
    "        B[:, i] .= H[:, i] .* ks.gas.K ./ (2.0 .* ctr[i].prim[end])\n",
    "\n",
    "        q = heat_flux(ctr[i].h, ctr[i].b, ctr[i].prim, ks.vSpace.u, ks.vSpace.weights)\n",
    "        H1, B1 = shakhov(ks.vSpace.u, H[:,i], B[:,i], q, ctr[i].prim, ks.gas.Pr, ks.gas.K)\n",
    "        SH[:,i] .= H[:,i] .+ H1\n",
    "        SB[:,i] .= B[:,i] .+ B1\n",
    "\n",
    "        τ[1, i] = vhs_collision_time(ctr[i].prim, ks.gas.μᵣ, ks.gas.ω)\n",
    "    end\n",
    "    P = [SH, SB, τ]\n",
    "    M = vcat(H, B)\n",
    "\n",
    "    prob = ODEProblem(shakhov!, X, tspan, P)\n",
    "    Y = solve(prob, Euler(), dt=dt) |> Array;\n",
    "    \n",
    "    return X, Y, H, B, M, τ\n",
    "end"
   ]
  },
  {
   "cell_type": "code",
   "execution_count": 7,
   "metadata": {},
   "outputs": [],
   "source": [
    "X, Y, H, B, M, τ = generate_data(ks, ctr);"
   ]
  },
  {
   "cell_type": "code",
   "execution_count": 41,
   "metadata": {},
   "outputs": [
    {
     "name": "stderr",
     "output_type": "stream",
     "text": [
      "\u001b[32mloss: 7.29e-07: 100%|█████████████████████████████████████████| Time: 0:01:35\u001b[39m\n"
     ]
    },
    {
     "data": {
      "text/plain": [
       " * Status: success\n",
       "\n",
       " * Candidate solution\n",
       "    Final objective value:     7.292677e-07\n",
       "\n",
       " * Found with\n",
       "    Algorithm:     ADAM\n",
       "\n",
       " * Convergence measures\n",
       "    |x - x'|               = NaN ≰ 0.0e+00\n",
       "    |x - x'|/|x'|          = NaN ≰ 0.0e+00\n",
       "    |f(x) - f(x')|         = NaN ≰ 0.0e+00\n",
       "    |f(x) - f(x')|/|f(x')| = NaN ≰ 0.0e+00\n",
       "    |g(x)|                 = NaN ≰ 0.0e+00\n",
       "\n",
       " * Work counters\n",
       "    Seconds run:   99  (vs limit Inf)\n",
       "    Iterations:    200\n",
       "    f(x) calls:    200\n",
       "    ∇f(x) calls:   200\n"
      ]
     },
     "execution_count": 41,
     "metadata": {},
     "output_type": "execute_result"
    }
   ],
   "source": [
    "ann = FastChain(\n",
    "    #(x, p) -> zeros(eltype(x), axes(x)),\n",
    "    FastDense(nu * 2, nu * 2 * nh, tanh),\n",
    "    FastDense(nu * 2 * nh, nu * 2 * nh, tanh),\n",
    "    FastDense(nu * 2 * nh, nu * 2),\n",
    ")\n",
    "\n",
    "p_model = initial_params(ann)\n",
    "\n",
    "function dfdt(f, p, t)\n",
    "    h = f[1:nu, :]\n",
    "    b = f[nu+1:end, :]\n",
    "\n",
    "    dh = (H .- h) ./ τ .+ ann(f .- M, p)[1:nu, :]\n",
    "    db = (B .- b) ./ τ .+ ann(f .- M, p)[nu+1:end, :]\n",
    "\n",
    "    df = vcat(dh, db)\n",
    "end\n",
    "\n",
    "ode_prob = ODEProblem(dfdt, X, tspan, p_model)\n",
    "\n",
    "function loss(p)\n",
    "    #sol = solve(ode_prob, Midpoint(), u0=X, p=p, saveat=tran)\n",
    "    sol = solve(ode_prob, Euler(), u0=X, p=p, dt=dt)\n",
    "    loss = sum(abs2, Array(sol) .- Y)\n",
    "    return loss\n",
    "end\n",
    "\n",
    "cb = function (p, l)\n",
    "    #display(l)\n",
    "    return false\n",
    "end\n",
    "\n",
    "res = DiffEqFlux.sciml_train(loss, p_model, ADAM(), cb=Flux.throttle(cb, 1), maxiters=200)"
   ]
  },
  {
   "cell_type": "code",
   "execution_count": 49,
   "metadata": {},
   "outputs": [],
   "source": [
    "function ube_rhs!(df, f, p, t)\n",
    "    H = p[1:nu]\n",
    "    B = p[nu+1:2*nu]\n",
    "    τ = p[2*nu+1]\n",
    "    p_nn = p[2*nu+2:end]\n",
    "\n",
    "    h = f[1:nu]\n",
    "    b = f[nu+1:end]\n",
    "\n",
    "    dh = (H .- h) ./ τ .+ ann(f .- [H; B], p_nn)[1:nu]\n",
    "    db = (B .- b) ./ τ .+ ann(f .- [H; B], p_nn)[nu+1:end]\n",
    "\n",
    "    df[1:nu] .= dh\n",
    "    df[nu+1:end] .= db\n",
    "end\n",
    "\n",
    "ube = ODEProblem(\n",
    "    ube_rhs!,\n",
    "    [ctr[1].h; ctr[1].b],\n",
    "    tspan,\n",
    "    [H[:, 1]; B[:, 1]; τ[1, 1]; res.minimizer],\n",
    ");"
   ]
  },
  {
   "cell_type": "code",
   "execution_count": 50,
   "metadata": {},
   "outputs": [
    {
     "data": {
      "text/plain": [
       "step_ube! (generic function with 1 method)"
      ]
     },
     "execution_count": 50,
     "metadata": {},
     "output_type": "execute_result"
    }
   ],
   "source": [
    "function step_ube!(\n",
    "    fwL,\n",
    "    fhL,\n",
    "    fbL,\n",
    "    w,\n",
    "    prim,\n",
    "    h,\n",
    "    b,\n",
    "    fwR,\n",
    "    fhR,\n",
    "    fbR;\n",
    "    p,\n",
    "    mode = :shakhov,\n",
    ")\n",
    "    \n",
    "    # extract parameters\n",
    "    K, γ, μ, ω, u, weights, p_nn, dx, tran, RES, AVG = p\n",
    "    \n",
    "    # record W^{n}\n",
    "    w_old = deepcopy(w)\n",
    "    H = maxwellian(u, prim)\n",
    "    B = H .* K ./ (2.0 .* prim[end])\n",
    "    τ = vhs_collision_time(prim, μ, ω)\n",
    "\n",
    "    # update f^{n+1}\n",
    "    if mode == :shakhov\n",
    "        qf = heat_flux(h, b, prim, u, weights)\n",
    "        H1, B1 = shakhov(u, H, B, qf, prim, ks.gas.Pr, K)\n",
    "        SH = H .+ H1\n",
    "        SB = B .+ B1\n",
    "        \n",
    "        hstar = @. h + (SH - h) / τ * dt\n",
    "        bstar = @. b + (SB - b) / τ * dt\n",
    "    elseif mode == :nn\n",
    "        sol = solve(ube, Euler(), u0=[h; b], p=[H; B; τ; res.minimizer], dt=dt)\n",
    "        #sol = solve(ube, Midpoint(), u0=[h; b], p=[H; B; τ; p_nn], saveat=tran)\n",
    "        #sol = solve(ube, Midpoint(), u0=[h; b], p=[SH; SB; τ; p_nn], saveat=tran)\n",
    "        hstar = sol.u[end][1:length(h)]\n",
    "        bstar = sol.u[end][length(h)+1:end]\n",
    "    end\n",
    "    \n",
    "    for i in eachindex(h)\n",
    "        h[i] = hstar[i] + (fhL[i] - fhR[i]) / dx\n",
    "        b[i] = bstar[i] + (fbL[i] - fbR[i]) / dx\n",
    "    end\n",
    "        \n",
    "    # update W^{n+1}\n",
    "    @. w += (fwL - fwR) / dx\n",
    "    prim .= conserve_prim(w, γ)\n",
    "\n",
    "    # record residuals\n",
    "    @. RES += (w - w_old)^2\n",
    "    @. AVG += abs(w)\n",
    "        \n",
    "end"
   ]
  },
  {
   "cell_type": "code",
   "execution_count": 44,
   "metadata": {},
   "outputs": [
    {
     "name": "stderr",
     "output_type": "stream",
     "text": [
      "\u001b[32mProgress: 100%|█████████████████████████████████████████| Time: 0:00:00\u001b[39m\n"
     ]
    }
   ],
   "source": [
    "sumRes = zeros(Float32, axes(ks.ib.wL));\n",
    "sumAvg = zeros(Float32, axes(ks.ib.wL));\n",
    "\n",
    "@showprogress for iter = 1:200\n",
    "    Kinetic.evolve!(ks, ctr, face, dt)\n",
    "    \n",
    "    for i = 2:49\n",
    "        p = (ks.gas.K, ks.gas.γ, ks.gas.μᵣ, ks.gas.ω, ks.vSpace.u, ks.vSpace.weights, res.minimizer, ctr[i].dx, tran, sumRes, sumAvg)\n",
    "        step_ube!(\n",
    "            face[i].fw,\n",
    "            face[i].fh,\n",
    "            face[i].fb,\n",
    "            ctr[i].w,\n",
    "            ctr[i].prim,\n",
    "            ctr[i].h,\n",
    "            ctr[i].b,\n",
    "            face[i+1].fw,\n",
    "            face[i+1].fh,\n",
    "            face[i+1].fb,\n",
    "            p=p,\n",
    "            mode=:shakhov,\n",
    "        )\n",
    "    end\n",
    "end"
   ]
  },
  {
   "cell_type": "code",
   "execution_count": 45,
   "metadata": {},
   "outputs": [],
   "source": [
    "X, Y, H, B, M, τ = generate_data(ks, ctr)\n",
    "res = DiffEqFlux.sciml_train(loss, res.minimizer, ADAM(), cb=Flux.throttle(cb, 1), maxiters=200, save_best=true)"
   ]
  },
  {
   "cell_type": "code",
   "execution_count": 51,
   "metadata": {},
   "outputs": [
    {
     "name": "stderr",
     "output_type": "stream",
     "text": [
      "\u001b[32mProgress: 100%|█████████████████████████████████████████| Time: 0:01:11\u001b[39m\n"
     ]
    }
   ],
   "source": [
    "@showprogress for iter = 1:20\n",
    "    Kinetic.evolve!(ks, ctr, face, dt)\n",
    "    \n",
    "    for i = 2:49\n",
    "        p = (ks.gas.K, ks.gas.γ, ks.gas.μᵣ, ks.gas.ω, ks.vSpace.u, ks.vSpace.weights, res.minimizer, ctr[i].dx, tran, sumRes, sumAvg)\n",
    "        step_ube!(\n",
    "            face[i].fw,\n",
    "            face[i].fh,\n",
    "            face[i].fb,\n",
    "            ctr[i].w,\n",
    "            ctr[i].prim,\n",
    "            ctr[i].h,\n",
    "            ctr[i].b,\n",
    "            face[i+1].fw,\n",
    "            face[i+1].fh,\n",
    "            face[i+1].fb,\n",
    "            p=p,\n",
    "            mode=:nn,\n",
    "        )\n",
    "    end\n",
    "end"
   ]
  },
  {
   "cell_type": "code",
   "execution_count": 52,
   "metadata": {},
   "outputs": [
    {
     "data": {
      "image/svg+xml": [
       "<?xml version=\"1.0\" encoding=\"utf-8\"?>\n",
       "<svg xmlns=\"http://www.w3.org/2000/svg\" xmlns:xlink=\"http://www.w3.org/1999/xlink\" width=\"600\" height=\"400\" viewBox=\"0 0 2400 1600\">\n",
       "<defs>\n",
       "  <clipPath id=\"clip970\">\n",
       "    <rect x=\"0\" y=\"0\" width=\"2400\" height=\"1600\"/>\n",
       "  </clipPath>\n",
       "</defs>\n",
       "<path clip-path=\"url(#clip970)\" d=\"\n",
       "M0 1600 L2400 1600 L2400 0 L0 0  Z\n",
       "  \" fill=\"#ffffff\" fill-rule=\"evenodd\" fill-opacity=\"1\"/>\n",
       "<defs>\n",
       "  <clipPath id=\"clip971\">\n",
       "    <rect x=\"480\" y=\"0\" width=\"1681\" height=\"1600\"/>\n",
       "  </clipPath>\n",
       "</defs>\n",
       "<path clip-path=\"url(#clip970)\" d=\"\n",
       "M146.714 1423.18 L2352.76 1423.18 L2352.76 47.2441 L146.714 47.2441  Z\n",
       "  \" fill=\"#ffffff\" fill-rule=\"evenodd\" fill-opacity=\"1\"/>\n",
       "<defs>\n",
       "  <clipPath id=\"clip972\">\n",
       "    <rect x=\"146\" y=\"47\" width=\"2207\" height=\"1377\"/>\n",
       "  </clipPath>\n",
       "</defs>\n",
       "<polyline clip-path=\"url(#clip972)\" style=\"stroke:#000000; stroke-width:2; stroke-opacity:0.1; fill:none\" points=\"\n",
       "  406.729,1423.18 406.729,47.2441 \n",
       "  \"/>\n",
       "<polyline clip-path=\"url(#clip972)\" style=\"stroke:#000000; stroke-width:2; stroke-opacity:0.1; fill:none\" points=\"\n",
       "  828.232,1423.18 828.232,47.2441 \n",
       "  \"/>\n",
       "<polyline clip-path=\"url(#clip972)\" style=\"stroke:#000000; stroke-width:2; stroke-opacity:0.1; fill:none\" points=\"\n",
       "  1249.73,1423.18 1249.73,47.2441 \n",
       "  \"/>\n",
       "<polyline clip-path=\"url(#clip972)\" style=\"stroke:#000000; stroke-width:2; stroke-opacity:0.1; fill:none\" points=\"\n",
       "  1671.24,1423.18 1671.24,47.2441 \n",
       "  \"/>\n",
       "<polyline clip-path=\"url(#clip972)\" style=\"stroke:#000000; stroke-width:2; stroke-opacity:0.1; fill:none\" points=\"\n",
       "  2092.74,1423.18 2092.74,47.2441 \n",
       "  \"/>\n",
       "<polyline clip-path=\"url(#clip972)\" style=\"stroke:#000000; stroke-width:2; stroke-opacity:0.1; fill:none\" points=\"\n",
       "  146.714,1343.19 2352.76,1343.19 \n",
       "  \"/>\n",
       "<polyline clip-path=\"url(#clip972)\" style=\"stroke:#000000; stroke-width:2; stroke-opacity:0.1; fill:none\" points=\"\n",
       "  146.714,1107.65 2352.76,1107.65 \n",
       "  \"/>\n",
       "<polyline clip-path=\"url(#clip972)\" style=\"stroke:#000000; stroke-width:2; stroke-opacity:0.1; fill:none\" points=\"\n",
       "  146.714,872.114 2352.76,872.114 \n",
       "  \"/>\n",
       "<polyline clip-path=\"url(#clip972)\" style=\"stroke:#000000; stroke-width:2; stroke-opacity:0.1; fill:none\" points=\"\n",
       "  146.714,636.574 2352.76,636.574 \n",
       "  \"/>\n",
       "<polyline clip-path=\"url(#clip972)\" style=\"stroke:#000000; stroke-width:2; stroke-opacity:0.1; fill:none\" points=\"\n",
       "  146.714,401.034 2352.76,401.034 \n",
       "  \"/>\n",
       "<polyline clip-path=\"url(#clip972)\" style=\"stroke:#000000; stroke-width:2; stroke-opacity:0.1; fill:none\" points=\"\n",
       "  146.714,165.494 2352.76,165.494 \n",
       "  \"/>\n",
       "<polyline clip-path=\"url(#clip970)\" style=\"stroke:#000000; stroke-width:4; stroke-opacity:1; fill:none\" points=\"\n",
       "  146.714,1423.18 2352.76,1423.18 \n",
       "  \"/>\n",
       "<polyline clip-path=\"url(#clip970)\" style=\"stroke:#000000; stroke-width:4; stroke-opacity:1; fill:none\" points=\"\n",
       "  146.714,1423.18 146.714,47.2441 \n",
       "  \"/>\n",
       "<polyline clip-path=\"url(#clip970)\" style=\"stroke:#000000; stroke-width:4; stroke-opacity:1; fill:none\" points=\"\n",
       "  406.729,1423.18 406.729,1406.67 \n",
       "  \"/>\n",
       "<polyline clip-path=\"url(#clip970)\" style=\"stroke:#000000; stroke-width:4; stroke-opacity:1; fill:none\" points=\"\n",
       "  828.232,1423.18 828.232,1406.67 \n",
       "  \"/>\n",
       "<polyline clip-path=\"url(#clip970)\" style=\"stroke:#000000; stroke-width:4; stroke-opacity:1; fill:none\" points=\"\n",
       "  1249.73,1423.18 1249.73,1406.67 \n",
       "  \"/>\n",
       "<polyline clip-path=\"url(#clip970)\" style=\"stroke:#000000; stroke-width:4; stroke-opacity:1; fill:none\" points=\"\n",
       "  1671.24,1423.18 1671.24,1406.67 \n",
       "  \"/>\n",
       "<polyline clip-path=\"url(#clip970)\" style=\"stroke:#000000; stroke-width:4; stroke-opacity:1; fill:none\" points=\"\n",
       "  2092.74,1423.18 2092.74,1406.67 \n",
       "  \"/>\n",
       "<polyline clip-path=\"url(#clip970)\" style=\"stroke:#000000; stroke-width:4; stroke-opacity:1; fill:none\" points=\"\n",
       "  146.714,1343.19 173.187,1343.19 \n",
       "  \"/>\n",
       "<polyline clip-path=\"url(#clip970)\" style=\"stroke:#000000; stroke-width:4; stroke-opacity:1; fill:none\" points=\"\n",
       "  146.714,1107.65 173.187,1107.65 \n",
       "  \"/>\n",
       "<polyline clip-path=\"url(#clip970)\" style=\"stroke:#000000; stroke-width:4; stroke-opacity:1; fill:none\" points=\"\n",
       "  146.714,872.114 173.187,872.114 \n",
       "  \"/>\n",
       "<polyline clip-path=\"url(#clip970)\" style=\"stroke:#000000; stroke-width:4; stroke-opacity:1; fill:none\" points=\"\n",
       "  146.714,636.574 173.187,636.574 \n",
       "  \"/>\n",
       "<polyline clip-path=\"url(#clip970)\" style=\"stroke:#000000; stroke-width:4; stroke-opacity:1; fill:none\" points=\"\n",
       "  146.714,401.034 173.187,401.034 \n",
       "  \"/>\n",
       "<polyline clip-path=\"url(#clip970)\" style=\"stroke:#000000; stroke-width:4; stroke-opacity:1; fill:none\" points=\"\n",
       "  146.714,165.494 173.187,165.494 \n",
       "  \"/>\n",
       "<path clip-path=\"url(#clip970)\" d=\"M 0 0 M374.275 1461.77 L386.752 1461.77 L386.752 1465.56 L374.275 1465.56 L374.275 1461.77 Z\" fill=\"#000000\" fill-rule=\"evenodd\" fill-opacity=\"1\" /><path clip-path=\"url(#clip970)\" d=\"M 0 0 M395.849 1472.72 L412.169 1472.72 L412.169 1476.65 L390.224 1476.65 L390.224 1472.72 Q392.886 1469.96 397.47 1465.33 Q402.076 1460.68 403.257 1459.34 Q405.502 1456.81 406.382 1455.08 Q407.284 1453.32 407.284 1451.63 Q407.284 1448.87 405.34 1447.14 Q403.419 1445.4 400.317 1445.4 Q398.118 1445.4 395.664 1446.17 Q393.233 1446.93 390.456 1448.48 L390.456 1443.76 Q393.28 1442.62 395.733 1442.05 Q398.187 1441.47 400.224 1441.47 Q405.595 1441.47 408.789 1444.15 Q411.983 1446.84 411.983 1451.33 Q411.983 1453.46 411.173 1455.38 Q410.386 1457.28 408.28 1459.87 Q407.701 1460.54 404.599 1463.76 Q401.497 1466.95 395.849 1472.72 Z\" fill=\"#000000\" fill-rule=\"evenodd\" fill-opacity=\"1\" /><path clip-path=\"url(#clip970)\" d=\"M 0 0 M427.238 1445.17 Q423.627 1445.17 421.798 1448.74 Q419.993 1452.28 419.993 1459.41 Q419.993 1466.51 421.798 1470.08 Q423.627 1473.62 427.238 1473.62 Q430.872 1473.62 432.678 1470.08 Q434.506 1466.51 434.506 1459.41 Q434.506 1452.28 432.678 1448.74 Q430.872 1445.17 427.238 1445.17 M427.238 1441.47 Q433.048 1441.47 436.104 1446.07 Q439.182 1450.66 439.182 1459.41 Q439.182 1468.13 436.104 1472.74 Q433.048 1477.32 427.238 1477.32 Q421.428 1477.32 418.349 1472.74 Q415.294 1468.13 415.294 1459.41 Q415.294 1450.66 418.349 1446.07 Q421.428 1441.47 427.238 1441.47 Z\" fill=\"#000000\" fill-rule=\"evenodd\" fill-opacity=\"1\" /><path clip-path=\"url(#clip970)\" d=\"M 0 0 M795.593 1461.77 L808.07 1461.77 L808.07 1465.56 L795.593 1465.56 L795.593 1461.77 Z\" fill=\"#000000\" fill-rule=\"evenodd\" fill-opacity=\"1\" /><path clip-path=\"url(#clip970)\" d=\"M 0 0 M813.95 1472.72 L821.588 1472.72 L821.588 1446.35 L813.278 1448.02 L813.278 1443.76 L821.542 1442.09 L826.218 1442.09 L826.218 1472.72 L833.857 1472.72 L833.857 1476.65 L813.95 1476.65 L813.95 1472.72 Z\" fill=\"#000000\" fill-rule=\"evenodd\" fill-opacity=\"1\" /><path clip-path=\"url(#clip970)\" d=\"M 0 0 M848.926 1445.17 Q845.315 1445.17 843.486 1448.74 Q841.681 1452.28 841.681 1459.41 Q841.681 1466.51 843.486 1470.08 Q845.315 1473.62 848.926 1473.62 Q852.56 1473.62 854.366 1470.08 Q856.195 1466.51 856.195 1459.41 Q856.195 1452.28 854.366 1448.74 Q852.56 1445.17 848.926 1445.17 M848.926 1441.47 Q854.736 1441.47 857.792 1446.07 Q860.871 1450.66 860.871 1459.41 Q860.871 1468.13 857.792 1472.74 Q854.736 1477.32 848.926 1477.32 Q843.116 1477.32 840.037 1472.74 Q836.982 1468.13 836.982 1459.41 Q836.982 1450.66 840.037 1446.07 Q843.116 1441.47 848.926 1441.47 Z\" fill=\"#000000\" fill-rule=\"evenodd\" fill-opacity=\"1\" /><path clip-path=\"url(#clip970)\" d=\"M 0 0 M1249.73 1445.17 Q1246.12 1445.17 1244.3 1448.74 Q1242.49 1452.28 1242.49 1459.41 Q1242.49 1466.51 1244.3 1470.08 Q1246.12 1473.62 1249.73 1473.62 Q1253.37 1473.62 1255.17 1470.08 Q1257 1466.51 1257 1459.41 Q1257 1452.28 1255.17 1448.74 Q1253.37 1445.17 1249.73 1445.17 M1249.73 1441.47 Q1255.55 1441.47 1258.6 1446.07 Q1261.68 1450.66 1261.68 1459.41 Q1261.68 1468.13 1258.6 1472.74 Q1255.55 1477.32 1249.73 1477.32 Q1243.92 1477.32 1240.85 1472.74 Q1237.79 1468.13 1237.79 1459.41 Q1237.79 1450.66 1240.85 1446.07 Q1243.92 1441.47 1249.73 1441.47 Z\" fill=\"#000000\" fill-rule=\"evenodd\" fill-opacity=\"1\" /><path clip-path=\"url(#clip970)\" d=\"M 0 0 M1648.11 1472.72 L1655.75 1472.72 L1655.75 1446.35 L1647.44 1448.02 L1647.44 1443.76 L1655.71 1442.09 L1660.38 1442.09 L1660.38 1472.72 L1668.02 1472.72 L1668.02 1476.65 L1648.11 1476.65 L1648.11 1472.72 Z\" fill=\"#000000\" fill-rule=\"evenodd\" fill-opacity=\"1\" /><path clip-path=\"url(#clip970)\" d=\"M 0 0 M1683.09 1445.17 Q1679.48 1445.17 1677.65 1448.74 Q1675.84 1452.28 1675.84 1459.41 Q1675.84 1466.51 1677.65 1470.08 Q1679.48 1473.62 1683.09 1473.62 Q1686.72 1473.62 1688.53 1470.08 Q1690.36 1466.51 1690.36 1459.41 Q1690.36 1452.28 1688.53 1448.74 Q1686.72 1445.17 1683.09 1445.17 M1683.09 1441.47 Q1688.9 1441.47 1691.96 1446.07 Q1695.03 1450.66 1695.03 1459.41 Q1695.03 1468.13 1691.96 1472.74 Q1688.9 1477.32 1683.09 1477.32 Q1677.28 1477.32 1674.2 1472.74 Q1671.15 1468.13 1671.15 1459.41 Q1671.15 1450.66 1674.2 1446.07 Q1677.28 1441.47 1683.09 1441.47 Z\" fill=\"#000000\" fill-rule=\"evenodd\" fill-opacity=\"1\" /><path clip-path=\"url(#clip970)\" d=\"M 0 0 M2073.89 1472.72 L2090.21 1472.72 L2090.21 1476.65 L2068.26 1476.65 L2068.26 1472.72 Q2070.92 1469.96 2075.51 1465.33 Q2080.11 1460.68 2081.29 1459.34 Q2083.54 1456.81 2084.42 1455.08 Q2085.32 1453.32 2085.32 1451.63 Q2085.32 1448.87 2083.38 1447.14 Q2081.46 1445.4 2078.35 1445.4 Q2076.16 1445.4 2073.7 1446.17 Q2071.27 1446.93 2068.49 1448.48 L2068.49 1443.76 Q2071.32 1442.62 2073.77 1442.05 Q2076.23 1441.47 2078.26 1441.47 Q2083.63 1441.47 2086.83 1444.15 Q2090.02 1446.84 2090.02 1451.33 Q2090.02 1453.46 2089.21 1455.38 Q2088.42 1457.28 2086.32 1459.87 Q2085.74 1460.54 2082.64 1463.76 Q2079.54 1466.95 2073.89 1472.72 Z\" fill=\"#000000\" fill-rule=\"evenodd\" fill-opacity=\"1\" /><path clip-path=\"url(#clip970)\" d=\"M 0 0 M2105.28 1445.17 Q2101.66 1445.17 2099.84 1448.74 Q2098.03 1452.28 2098.03 1459.41 Q2098.03 1466.51 2099.84 1470.08 Q2101.66 1473.62 2105.28 1473.62 Q2108.91 1473.62 2110.72 1470.08 Q2112.54 1466.51 2112.54 1459.41 Q2112.54 1452.28 2110.72 1448.74 Q2108.91 1445.17 2105.28 1445.17 M2105.28 1441.47 Q2111.09 1441.47 2114.14 1446.07 Q2117.22 1450.66 2117.22 1459.41 Q2117.22 1468.13 2114.14 1472.74 Q2111.09 1477.32 2105.28 1477.32 Q2099.47 1477.32 2096.39 1472.74 Q2093.33 1468.13 2093.33 1459.41 Q2093.33 1450.66 2096.39 1446.07 Q2099.47 1441.47 2105.28 1441.47 Z\" fill=\"#000000\" fill-rule=\"evenodd\" fill-opacity=\"1\" /><path clip-path=\"url(#clip970)\" d=\"M 0 0 M65.8393 1356.54 L73.4782 1356.54 L73.4782 1330.17 L65.168 1331.84 L65.168 1327.58 L73.4319 1325.91 L78.1078 1325.91 L78.1078 1356.54 L85.7466 1356.54 L85.7466 1360.47 L65.8393 1360.47 L65.8393 1356.54 Z\" fill=\"#000000\" fill-rule=\"evenodd\" fill-opacity=\"1\" /><path clip-path=\"url(#clip970)\" d=\"M 0 0 M90.8161 1354.59 L95.7003 1354.59 L95.7003 1360.47 L90.8161 1360.47 L90.8161 1354.59 Z\" fill=\"#000000\" fill-rule=\"evenodd\" fill-opacity=\"1\" /><path clip-path=\"url(#clip970)\" d=\"M 0 0 M110.77 1328.99 Q107.159 1328.99 105.33 1332.56 Q103.524 1336.1 103.524 1343.23 Q103.524 1350.33 105.33 1353.9 Q107.159 1357.44 110.77 1357.44 Q114.404 1357.44 116.209 1353.9 Q118.038 1350.33 118.038 1343.23 Q118.038 1336.1 116.209 1332.56 Q114.404 1328.99 110.77 1328.99 M110.77 1325.29 Q116.58 1325.29 119.635 1329.9 Q122.714 1334.48 122.714 1343.23 Q122.714 1351.96 119.635 1356.56 Q116.58 1361.14 110.77 1361.14 Q104.959 1361.14 101.881 1356.56 Q98.8253 1351.96 98.8253 1343.23 Q98.8253 1334.48 101.881 1329.9 Q104.959 1325.29 110.77 1325.29 Z\" fill=\"#000000\" fill-rule=\"evenodd\" fill-opacity=\"1\" /><path clip-path=\"url(#clip970)\" d=\"M 0 0 M66.8347 1121 L74.4735 1121 L74.4735 1094.63 L66.1634 1096.3 L66.1634 1092.04 L74.4272 1090.37 L79.1032 1090.37 L79.1032 1121 L86.742 1121 L86.742 1124.93 L66.8347 1124.93 L66.8347 1121 Z\" fill=\"#000000\" fill-rule=\"evenodd\" fill-opacity=\"1\" /><path clip-path=\"url(#clip970)\" d=\"M 0 0 M91.8114 1119.05 L96.6956 1119.05 L96.6956 1124.93 L91.8114 1124.93 L91.8114 1119.05 Z\" fill=\"#000000\" fill-rule=\"evenodd\" fill-opacity=\"1\" /><path clip-path=\"url(#clip970)\" d=\"M 0 0 M101.811 1090.37 L120.168 1090.37 L120.168 1094.31 L106.094 1094.31 L106.094 1102.78 Q107.112 1102.43 108.131 1102.27 Q109.149 1102.09 110.168 1102.09 Q115.955 1102.09 119.334 1105.26 Q122.714 1108.43 122.714 1113.85 Q122.714 1119.42 119.242 1122.53 Q115.77 1125.61 109.45 1125.61 Q107.274 1125.61 105.006 1125.23 Q102.76 1124.86 100.353 1124.12 L100.353 1119.42 Q102.436 1120.56 104.659 1121.11 Q106.881 1121.67 109.358 1121.67 Q113.362 1121.67 115.7 1119.56 Q118.038 1117.46 118.038 1113.85 Q118.038 1110.23 115.7 1108.13 Q113.362 1106.02 109.358 1106.02 Q107.483 1106.02 105.608 1106.44 Q103.756 1106.86 101.811 1107.73 L101.811 1090.37 Z\" fill=\"#000000\" fill-rule=\"evenodd\" fill-opacity=\"1\" /><path clip-path=\"url(#clip970)\" d=\"M 0 0 M69.4273 885.459 L85.7466 885.459 L85.7466 889.394 L63.8023 889.394 L63.8023 885.459 Q66.4643 882.704 71.0476 878.075 Q75.6541 873.422 76.8346 872.079 Q79.08 869.556 79.9596 867.82 Q80.8624 866.061 80.8624 864.371 Q80.8624 861.616 78.918 859.88 Q76.9967 858.144 73.8948 858.144 Q71.6958 858.144 69.2421 858.908 Q66.8115 859.672 64.0338 861.223 L64.0338 856.501 Q66.8578 855.366 69.3115 854.788 Q71.7652 854.209 73.8023 854.209 Q79.1726 854.209 82.367 856.894 Q85.5614 859.579 85.5614 864.07 Q85.5614 866.2 84.7513 868.121 Q83.9642 870.019 81.8578 872.612 Q81.2791 873.283 78.1772 876.5 Q75.0754 879.695 69.4273 885.459 Z\" fill=\"#000000\" fill-rule=\"evenodd\" fill-opacity=\"1\" /><path clip-path=\"url(#clip970)\" d=\"M 0 0 M90.8161 883.514 L95.7003 883.514 L95.7003 889.394 L90.8161 889.394 L90.8161 883.514 Z\" fill=\"#000000\" fill-rule=\"evenodd\" fill-opacity=\"1\" /><path clip-path=\"url(#clip970)\" d=\"M 0 0 M110.77 857.913 Q107.159 857.913 105.33 861.477 Q103.524 865.019 103.524 872.149 Q103.524 879.255 105.33 882.82 Q107.159 886.362 110.77 886.362 Q114.404 886.362 116.209 882.82 Q118.038 879.255 118.038 872.149 Q118.038 865.019 116.209 861.477 Q114.404 857.913 110.77 857.913 M110.77 854.209 Q116.58 854.209 119.635 858.815 Q122.714 863.399 122.714 872.149 Q122.714 880.875 119.635 885.482 Q116.58 890.065 110.77 890.065 Q104.959 890.065 101.881 885.482 Q98.8253 880.875 98.8253 872.149 Q98.8253 863.399 101.881 858.815 Q104.959 854.209 110.77 854.209 Z\" fill=\"#000000\" fill-rule=\"evenodd\" fill-opacity=\"1\" /><path clip-path=\"url(#clip970)\" d=\"M 0 0 M70.4226 649.919 L86.742 649.919 L86.742 653.854 L64.7977 653.854 L64.7977 649.919 Q67.4597 647.164 72.043 642.535 Q76.6495 637.882 77.83 636.539 Q80.0754 634.016 80.955 632.28 Q81.8578 630.521 81.8578 628.831 Q81.8578 626.076 79.9133 624.34 Q77.992 622.604 74.8902 622.604 Q72.6911 622.604 70.2375 623.368 Q67.8069 624.132 65.0292 625.683 L65.0292 620.961 Q67.8532 619.826 70.3069 619.248 Q72.7606 618.669 74.7976 618.669 Q80.168 618.669 83.3624 621.354 Q86.5568 624.039 86.5568 628.53 Q86.5568 630.66 85.7466 632.581 Q84.9596 634.479 82.8531 637.072 Q82.2744 637.743 79.1726 640.961 Q76.0708 644.155 70.4226 649.919 Z\" fill=\"#000000\" fill-rule=\"evenodd\" fill-opacity=\"1\" /><path clip-path=\"url(#clip970)\" d=\"M 0 0 M91.8114 647.974 L96.6956 647.974 L96.6956 653.854 L91.8114 653.854 L91.8114 647.974 Z\" fill=\"#000000\" fill-rule=\"evenodd\" fill-opacity=\"1\" /><path clip-path=\"url(#clip970)\" d=\"M 0 0 M101.811 619.294 L120.168 619.294 L120.168 623.229 L106.094 623.229 L106.094 631.701 Q107.112 631.354 108.131 631.192 Q109.149 631.007 110.168 631.007 Q115.955 631.007 119.334 634.178 Q122.714 637.35 122.714 642.766 Q122.714 648.345 119.242 651.447 Q115.77 654.525 109.45 654.525 Q107.274 654.525 105.006 654.155 Q102.76 653.785 100.353 653.044 L100.353 648.345 Q102.436 649.479 104.659 650.035 Q106.881 650.59 109.358 650.59 Q113.362 650.59 115.7 648.484 Q118.038 646.377 118.038 642.766 Q118.038 639.155 115.7 637.049 Q113.362 634.942 109.358 634.942 Q107.483 634.942 105.608 635.359 Q103.756 635.775 101.811 636.655 L101.811 619.294 Z\" fill=\"#000000\" fill-rule=\"evenodd\" fill-opacity=\"1\" /><path clip-path=\"url(#clip970)\" d=\"M 0 0 M78.617 399.68 Q81.9735 400.398 83.8485 402.666 Q85.7466 404.935 85.7466 408.268 Q85.7466 413.384 82.2281 416.185 Q78.7096 418.986 72.2282 418.986 Q70.0523 418.986 67.7375 418.546 Q65.4458 418.129 62.9921 417.273 L62.9921 412.759 Q64.9366 413.893 67.2514 414.472 Q69.5662 415.05 72.0893 415.05 Q76.4874 415.05 78.7791 413.314 Q81.0939 411.578 81.0939 408.268 Q81.0939 405.212 78.9411 403.5 Q76.8115 401.763 72.9921 401.763 L68.9643 401.763 L68.9643 397.921 L73.1773 397.921 Q76.6263 397.921 78.455 396.555 Q80.2837 395.166 80.2837 392.574 Q80.2837 389.912 78.3856 388.5 Q76.5106 387.064 72.9921 387.064 Q71.0708 387.064 68.8717 387.481 Q66.6727 387.898 64.0338 388.777 L64.0338 384.611 Q66.6958 383.87 69.0106 383.5 Q71.3486 383.129 73.4087 383.129 Q78.7328 383.129 81.8346 385.56 Q84.9365 387.967 84.9365 392.088 Q84.9365 394.958 83.2929 396.949 Q81.6494 398.916 78.617 399.68 Z\" fill=\"#000000\" fill-rule=\"evenodd\" fill-opacity=\"1\" /><path clip-path=\"url(#clip970)\" d=\"M 0 0 M90.8161 412.435 L95.7003 412.435 L95.7003 418.314 L90.8161 418.314 L90.8161 412.435 Z\" fill=\"#000000\" fill-rule=\"evenodd\" fill-opacity=\"1\" /><path clip-path=\"url(#clip970)\" d=\"M 0 0 M110.77 386.833 Q107.159 386.833 105.33 390.398 Q103.524 393.939 103.524 401.069 Q103.524 408.175 105.33 411.74 Q107.159 415.282 110.77 415.282 Q114.404 415.282 116.209 411.74 Q118.038 408.175 118.038 401.069 Q118.038 393.939 116.209 390.398 Q114.404 386.833 110.77 386.833 M110.77 383.129 Q116.58 383.129 119.635 387.736 Q122.714 392.319 122.714 401.069 Q122.714 409.796 119.635 414.402 Q116.58 418.986 110.77 418.986 Q104.959 418.986 101.881 414.402 Q98.8253 409.796 98.8253 401.069 Q98.8253 392.319 101.881 387.736 Q104.959 383.129 110.77 383.129 Z\" fill=\"#000000\" fill-rule=\"evenodd\" fill-opacity=\"1\" /><path clip-path=\"url(#clip970)\" d=\"M 0 0 M79.6124 164.14 Q82.9689 164.858 84.8439 167.126 Q86.742 169.395 86.742 172.728 Q86.742 177.844 83.2235 180.645 Q79.705 183.446 73.2236 183.446 Q71.0476 183.446 68.7328 183.006 Q66.4412 182.589 63.9875 181.733 L63.9875 177.219 Q65.9319 178.353 68.2467 178.932 Q70.5615 179.511 73.0847 179.511 Q77.4828 179.511 79.7744 177.774 Q82.0892 176.038 82.0892 172.728 Q82.0892 169.673 79.9365 167.96 Q77.8069 166.224 73.9874 166.224 L69.9597 166.224 L69.9597 162.381 L74.1726 162.381 Q77.6217 162.381 79.4504 161.015 Q81.2791 159.626 81.2791 157.034 Q81.2791 154.372 79.3809 152.96 Q77.5059 151.525 73.9874 151.525 Q72.0662 151.525 69.8671 151.941 Q67.668 152.358 65.0292 153.238 L65.0292 149.071 Q67.6912 148.33 70.006 147.96 Q72.3439 147.589 74.4041 147.589 Q79.7281 147.589 82.83 150.02 Q85.9318 152.427 85.9318 156.548 Q85.9318 159.418 84.2883 161.409 Q82.6448 163.376 79.6124 164.14 Z\" fill=\"#000000\" fill-rule=\"evenodd\" fill-opacity=\"1\" /><path clip-path=\"url(#clip970)\" d=\"M 0 0 M91.8114 176.895 L96.6956 176.895 L96.6956 182.774 L91.8114 182.774 L91.8114 176.895 Z\" fill=\"#000000\" fill-rule=\"evenodd\" fill-opacity=\"1\" /><path clip-path=\"url(#clip970)\" d=\"M 0 0 M101.811 148.214 L120.168 148.214 L120.168 152.15 L106.094 152.15 L106.094 160.622 Q107.112 160.275 108.131 160.113 Q109.149 159.927 110.168 159.927 Q115.955 159.927 119.334 163.099 Q122.714 166.27 122.714 171.687 Q122.714 177.265 119.242 180.367 Q115.77 183.446 109.45 183.446 Q107.274 183.446 105.006 183.075 Q102.76 182.705 100.353 181.964 L100.353 177.265 Q102.436 178.399 104.659 178.955 Q106.881 179.511 109.358 179.511 Q113.362 179.511 115.7 177.404 Q118.038 175.298 118.038 171.687 Q118.038 168.075 115.7 165.969 Q113.362 163.863 109.358 163.863 Q107.483 163.863 105.608 164.279 Q103.756 164.696 101.811 165.575 L101.811 148.214 Z\" fill=\"#000000\" fill-rule=\"evenodd\" fill-opacity=\"1\" /><path clip-path=\"url(#clip970)\" d=\"M 0 0 M1266.35 1520.4 L1253.46 1537.74 L1267.02 1556.04 L1260.11 1556.04 L1249.73 1542.04 L1239.36 1556.04 L1232.45 1556.04 L1246.3 1537.39 L1233.63 1520.4 L1240.54 1520.4 L1249.99 1533.1 L1259.44 1520.4 L1266.35 1520.4 Z\" fill=\"#000000\" fill-rule=\"evenodd\" fill-opacity=\"1\" /><polyline clip-path=\"url(#clip972)\" style=\"stroke:#009af9; stroke-width:8; stroke-opacity:1; fill:none\" points=\"\n",
       "  209.149,1343.19 235.493,1343.21 261.837,1343.19 288.181,1343.19 314.525,1343.18 340.869,1343.18 367.213,1343.18 393.557,1343.18 419.901,1343.19 446.245,1343.21 \n",
       "  472.589,1343.24 498.933,1343.27 525.277,1343.31 551.62,1343.35 577.964,1343.38 604.308,1343.4 630.652,1343.4 656.996,1343.36 683.34,1343.28 709.684,1343.14 \n",
       "  736.028,1342.92 762.372,1342.63 788.716,1342.26 815.06,1341.78 841.404,1341.2 867.748,1340.49 894.092,1339.62 920.436,1338.55 946.78,1337.2 973.124,1335.44 \n",
       "  999.467,1333.08 1025.81,1329.77 1052.16,1324.87 1078.5,1317.26 1104.84,1304.8 1131.19,1283.82 1157.53,1248.43 1183.88,1188.2 1210.22,1085.89 1236.56,935.384 \n",
       "  1262.91,769.146 1289.25,630.394 1315.59,535.278 1341.94,477.339 1368.28,444.268 1394.63,425.997 1420.97,416.015 1447.31,410.485 1473.66,407.165 1500,402.031 \n",
       "  1526.35,401.38 1552.69,401.015 1579.03,400.803 1605.38,400.676 1631.72,400.595 1658.07,400.541 1684.41,400.503 1710.75,400.476 1737.1,400.455 1763.44,400.439 \n",
       "  1789.79,400.428 1816.13,400.42 1842.47,400.416 1868.82,400.414 1895.16,400.416 1921.51,400.419 1947.85,400.425 1974.19,400.434 2000.54,400.444 2026.88,400.457 \n",
       "  2053.23,400.471 2079.57,400.485 2105.91,400.501 2132.26,400.519 2158.6,400.537 2184.94,400.558 2211.29,400.581 2237.63,400.611 2263.98,400.661 2290.32,401.034 \n",
       "  \n",
       "  \"/>\n",
       "<polyline clip-path=\"url(#clip972)\" style=\"stroke:#e26f46; stroke-width:8; stroke-opacity:1; fill:none\" points=\"\n",
       "  209.149,524.168 235.493,524.189 261.837,524.204 288.181,524.215 314.525,524.223 340.869,524.23 367.213,524.239 393.557,524.25 419.901,524.264 446.245,524.28 \n",
       "  472.589,524.3 498.933,524.323 525.277,524.349 551.62,524.382 577.964,524.424 604.308,524.484 630.652,524.574 656.996,524.707 683.34,524.902 709.684,525.179 \n",
       "  736.028,525.56 762.372,526.076 788.716,526.756 815.06,527.638 841.404,528.772 867.748,530.222 894.092,532.083 920.436,534.491 946.78,537.652 973.124,541.887 \n",
       "  999.467,547.694 1025.81,555.882 1052.16,567.809 1078.5,585.871 1104.84,614.254 1131.19,659.188 1157.53,727.259 1183.88,824.437 1210.22,954.161 1236.56,1096.13 \n",
       "  1262.91,1211.64 1289.25,1287.11 1315.59,1331.19 1341.94,1355.67 1368.28,1368.98 1394.63,1376.14 1420.97,1379.99 1447.31,1382.06 1473.66,1383.21 1500,1383.66 \n",
       "  1526.35,1383.9 1552.69,1384.03 1579.03,1384.1 1605.38,1384.15 1631.72,1384.17 1658.07,1384.19 1684.41,1384.2 1710.75,1384.2 1737.1,1384.21 1763.44,1384.21 \n",
       "  1789.79,1384.22 1816.13,1384.22 1842.47,1384.22 1868.82,1384.22 1895.16,1384.23 1921.51,1384.23 1947.85,1384.23 1974.19,1384.23 2000.54,1384.23 2026.88,1384.23 \n",
       "  2053.23,1384.23 2079.57,1384.23 2105.91,1384.23 2132.26,1384.23 2158.6,1384.24 2184.94,1384.24 2211.29,1384.24 2237.63,1384.24 2263.98,1384.23 2290.32,1384.24 \n",
       "  \n",
       "  \"/>\n",
       "<polyline clip-path=\"url(#clip972)\" style=\"stroke:#3da44d; stroke-width:8; stroke-opacity:1; fill:none\" points=\"\n",
       "  209.149,1343.19 235.493,1343.64 261.837,1343.68 288.181,1343.69 314.525,1343.68 340.869,1343.66 367.213,1343.61 393.557,1343.51 419.901,1343.37 446.245,1343.17 \n",
       "  472.589,1342.9 498.933,1342.57 525.277,1342.17 551.62,1341.73 577.964,1341.24 604.308,1340.7 630.652,1340.12 656.996,1339.48 683.34,1338.75 709.684,1337.91 \n",
       "  736.028,1336.9 762.372,1335.65 788.716,1334.07 815.06,1332.07 841.404,1329.49 867.748,1326.16 894.092,1321.85 920.436,1316.2 946.78,1308.71 973.124,1298.58 \n",
       "  999.467,1284.62 1025.81,1264.93 1052.16,1236.51 1078.5,1194.16 1104.84,1128.78 1131.19,1027.69 1157.53,883.526 1183.88,701.904 1210.22,499.572 1236.56,322.889 \n",
       "  1262.91,210.739 1289.25,150.931 1315.59,120.222 1341.94,104.242 1368.28,95.699 1394.63,90.9863 1420.97,88.3152 1447.31,86.8242 1473.66,86.1857 1500,88.1317 \n",
       "  1526.35,87.9075 1552.69,87.7923 1579.03,87.7359 1605.38,87.7106 1631.72,87.7005 1658.07,87.6991 1684.41,87.702 1710.75,87.705 1737.1,87.7071 1763.44,87.7082 \n",
       "  1789.79,87.7071 1816.13,87.7039 1842.47,87.6991 1868.82,87.6916 1895.16,87.6818 1921.51,87.6695 1947.85,87.6552 1974.19,87.6382 2000.54,87.6192 2026.88,87.5973 \n",
       "  2053.23,87.5745 2079.57,87.5501 2105.91,87.5254 2132.26,87.4985 2158.6,87.4709 2184.94,87.4394 2211.29,87.4058 2237.63,87.3662 2263.98,87.3079 2290.32,86.9812 \n",
       "  \n",
       "  \"/>\n",
       "<path clip-path=\"url(#clip970)\" d=\"\n",
       "M1757.46 335.029 L2279.22 335.029 L2279.22 93.1086 L1757.46 93.1086  Z\n",
       "  \" fill=\"#ffffff\" fill-rule=\"evenodd\" fill-opacity=\"1\"/>\n",
       "<polyline clip-path=\"url(#clip970)\" style=\"stroke:#000000; stroke-width:4; stroke-opacity:1; fill:none\" points=\"\n",
       "  1757.46,335.029 2279.22,335.029 2279.22,93.1086 1757.46,93.1086 1757.46,335.029 \n",
       "  \"/>\n",
       "<polyline clip-path=\"url(#clip970)\" style=\"stroke:#009af9; stroke-width:4; stroke-opacity:1; fill:none\" points=\"\n",
       "  1781.97,153.589 1929.04,153.589 \n",
       "  \"/>\n",
       "<path clip-path=\"url(#clip970)\" d=\"M 0 0 M1958.23 140.151 L1958.23 167.026 L1963.88 167.026 Q1971.03 167.026 1974.34 163.785 Q1977.68 160.545 1977.68 153.554 Q1977.68 146.609 1974.34 143.392 Q1971.03 140.151 1963.88 140.151 L1958.23 140.151 M1953.56 136.309 L1963.16 136.309 Q1973.21 136.309 1977.91 140.498 Q1982.61 144.665 1982.61 153.554 Q1982.61 162.489 1977.88 166.679 Q1973.16 170.869 1963.16 170.869 L1953.56 170.869 L1953.56 136.309 Z\" fill=\"#000000\" fill-rule=\"evenodd\" fill-opacity=\"1\" /><path clip-path=\"url(#clip970)\" d=\"M 0 0 M2009.25 156.841 L2009.25 158.924 L1989.67 158.924 Q1989.94 163.322 1992.31 165.637 Q1994.69 167.929 1998.93 167.929 Q2001.38 167.929 2003.67 167.327 Q2005.99 166.725 2008.25 165.521 L2008.25 169.549 Q2005.96 170.521 2003.56 171.031 Q2001.15 171.54 1998.67 171.54 Q1992.47 171.54 1988.83 167.929 Q1985.22 164.318 1985.22 158.16 Q1985.22 151.795 1988.65 148.068 Q1992.1 144.318 1997.93 144.318 Q2003.16 144.318 2006.19 147.697 Q2009.25 151.054 2009.25 156.841 M2004.99 155.591 Q2004.94 152.096 2003.02 150.012 Q2001.13 147.929 1997.98 147.929 Q1994.41 147.929 1992.26 149.943 Q1990.13 151.957 1989.81 155.614 L2004.99 155.591 Z\" fill=\"#000000\" fill-rule=\"evenodd\" fill-opacity=\"1\" /><path clip-path=\"url(#clip970)\" d=\"M 0 0 M2035.27 155.221 L2035.27 170.869 L2031.01 170.869 L2031.01 155.359 Q2031.01 151.679 2029.57 149.85 Q2028.14 148.022 2025.27 148.022 Q2021.82 148.022 2019.83 150.221 Q2017.84 152.42 2017.84 156.216 L2017.84 170.869 L2013.56 170.869 L2013.56 144.943 L2017.84 144.943 L2017.84 148.971 Q2019.37 146.633 2021.43 145.475 Q2023.51 144.318 2026.22 144.318 Q2030.69 144.318 2032.98 147.096 Q2035.27 149.85 2035.27 155.221 Z\" fill=\"#000000\" fill-rule=\"evenodd\" fill-opacity=\"1\" /><path clip-path=\"url(#clip970)\" d=\"M 0 0 M2056.26 145.707 L2056.26 149.734 Q2054.46 148.809 2052.51 148.346 Q2050.57 147.883 2048.49 147.883 Q2045.31 147.883 2043.72 148.855 Q2042.14 149.827 2042.14 151.771 Q2042.14 153.253 2043.28 154.109 Q2044.41 154.943 2047.84 155.707 L2049.3 156.031 Q2053.83 157.003 2055.73 158.785 Q2057.65 160.545 2057.65 163.716 Q2057.65 167.327 2054.78 169.433 Q2051.94 171.54 2046.94 171.54 Q2044.85 171.54 2042.58 171.123 Q2040.34 170.73 2037.84 169.92 L2037.84 165.521 Q2040.2 166.748 2042.49 167.373 Q2044.78 167.975 2047.03 167.975 Q2050.04 167.975 2051.66 166.957 Q2053.28 165.915 2053.28 164.04 Q2053.28 162.304 2052.1 161.378 Q2050.94 160.452 2046.98 159.596 L2045.5 159.248 Q2041.54 158.415 2039.78 156.702 Q2038.02 154.966 2038.02 151.957 Q2038.02 148.299 2040.62 146.309 Q2043.21 144.318 2047.98 144.318 Q2050.34 144.318 2052.42 144.665 Q2054.5 145.012 2056.26 145.707 Z\" fill=\"#000000\" fill-rule=\"evenodd\" fill-opacity=\"1\" /><path clip-path=\"url(#clip970)\" d=\"M 0 0 M2062.12 144.943 L2066.38 144.943 L2066.38 170.869 L2062.12 170.869 L2062.12 144.943 M2062.12 134.85 L2066.38 134.85 L2066.38 140.244 L2062.12 140.244 L2062.12 134.85 Z\" fill=\"#000000\" fill-rule=\"evenodd\" fill-opacity=\"1\" /><path clip-path=\"url(#clip970)\" d=\"M 0 0 M2075.06 137.582 L2075.06 144.943 L2083.83 144.943 L2083.83 148.253 L2075.06 148.253 L2075.06 162.327 Q2075.06 165.498 2075.92 166.401 Q2076.8 167.304 2079.46 167.304 L2083.83 167.304 L2083.83 170.869 L2079.46 170.869 Q2074.53 170.869 2072.65 169.04 Q2070.78 167.188 2070.78 162.327 L2070.78 148.253 L2067.65 148.253 L2067.65 144.943 L2070.78 144.943 L2070.78 137.582 L2075.06 137.582 Z\" fill=\"#000000\" fill-rule=\"evenodd\" fill-opacity=\"1\" /><path clip-path=\"url(#clip970)\" d=\"M 0 0 M2099.09 173.276 Q2097.28 177.906 2095.57 179.318 Q2093.86 180.73 2090.99 180.73 L2087.58 180.73 L2087.58 177.165 L2090.08 177.165 Q2091.84 177.165 2092.81 176.332 Q2093.79 175.498 2094.97 172.396 L2095.73 170.452 L2085.25 144.943 L2089.76 144.943 L2097.86 165.221 L2105.96 144.943 L2110.48 144.943 L2099.09 173.276 Z\" fill=\"#000000\" fill-rule=\"evenodd\" fill-opacity=\"1\" /><polyline clip-path=\"url(#clip970)\" style=\"stroke:#e26f46; stroke-width:4; stroke-opacity:1; fill:none\" points=\"\n",
       "  1781.97,214.069 1929.04,214.069 \n",
       "  \"/>\n",
       "<path clip-path=\"url(#clip970)\" d=\"M 0 0 M1966.75 231.349 L1953.56 196.789 L1958.44 196.789 L1969.39 225.886 L1980.36 196.789 L1985.22 196.789 L1972.05 231.349 L1966.75 231.349 Z\" fill=\"#000000\" fill-rule=\"evenodd\" fill-opacity=\"1\" /><path clip-path=\"url(#clip970)\" d=\"M 0 0 M2008.19 217.321 L2008.19 219.404 L1988.6 219.404 Q1988.88 223.802 1991.24 226.117 Q1993.63 228.409 1997.86 228.409 Q2000.31 228.409 2002.61 227.807 Q2004.92 227.205 2007.19 226.001 L2007.19 230.029 Q2004.9 231.001 2002.49 231.511 Q2000.08 232.02 1997.61 232.02 Q1991.4 232.02 1987.77 228.409 Q1984.16 224.798 1984.16 218.64 Q1984.16 212.275 1987.58 208.548 Q1991.03 204.798 1996.87 204.798 Q2002.1 204.798 2005.13 208.177 Q2008.19 211.534 2008.19 217.321 M2003.93 216.071 Q2003.88 212.576 2001.96 210.492 Q2000.06 208.409 1996.91 208.409 Q1993.35 208.409 1991.19 210.423 Q1989.07 212.437 1988.74 216.094 L2003.93 216.071 Z\" fill=\"#000000\" fill-rule=\"evenodd\" fill-opacity=\"1\" /><path clip-path=\"url(#clip970)\" d=\"M 0 0 M2012.65 195.33 L2016.91 195.33 L2016.91 231.349 L2012.65 231.349 L2012.65 195.33 Z\" fill=\"#000000\" fill-rule=\"evenodd\" fill-opacity=\"1\" /><path clip-path=\"url(#clip970)\" d=\"M 0 0 M2031.43 208.409 Q2028 208.409 2026.01 211.094 Q2024.02 213.756 2024.02 218.409 Q2024.02 223.062 2025.99 225.747 Q2027.98 228.409 2031.43 228.409 Q2034.83 228.409 2036.82 225.724 Q2038.81 223.038 2038.81 218.409 Q2038.81 213.802 2036.82 211.117 Q2034.83 208.409 2031.43 208.409 M2031.43 204.798 Q2036.98 204.798 2040.15 208.409 Q2043.32 212.02 2043.32 218.409 Q2043.32 224.775 2040.15 228.409 Q2036.98 232.02 2031.43 232.02 Q2025.85 232.02 2022.68 228.409 Q2019.53 224.775 2019.53 218.409 Q2019.53 212.02 2022.68 208.409 Q2025.85 204.798 2031.43 204.798 Z\" fill=\"#000000\" fill-rule=\"evenodd\" fill-opacity=\"1\" /><path clip-path=\"url(#clip970)\" d=\"M 0 0 M2066.45 206.418 L2066.45 210.4 Q2064.64 209.404 2062.81 208.918 Q2061.01 208.409 2059.16 208.409 Q2055.01 208.409 2052.72 211.048 Q2050.43 213.664 2050.43 218.409 Q2050.43 223.154 2052.72 225.793 Q2055.01 228.409 2059.16 228.409 Q2061.01 228.409 2062.81 227.923 Q2064.64 227.413 2066.45 226.418 L2066.45 230.353 Q2064.67 231.187 2062.75 231.603 Q2060.85 232.02 2058.69 232.02 Q2052.84 232.02 2049.39 228.339 Q2045.94 224.659 2045.94 218.409 Q2045.94 212.066 2049.41 208.432 Q2052.91 204.798 2058.97 204.798 Q2060.94 204.798 2062.81 205.215 Q2064.69 205.608 2066.45 206.418 Z\" fill=\"#000000\" fill-rule=\"evenodd\" fill-opacity=\"1\" /><path clip-path=\"url(#clip970)\" d=\"M 0 0 M2070.92 205.423 L2075.18 205.423 L2075.18 231.349 L2070.92 231.349 L2070.92 205.423 M2070.92 195.33 L2075.18 195.33 L2075.18 200.724 L2070.92 200.724 L2070.92 195.33 Z\" fill=\"#000000\" fill-rule=\"evenodd\" fill-opacity=\"1\" /><path clip-path=\"url(#clip970)\" d=\"M 0 0 M2083.86 198.062 L2083.86 205.423 L2092.63 205.423 L2092.63 208.733 L2083.86 208.733 L2083.86 222.807 Q2083.86 225.978 2084.71 226.881 Q2085.59 227.784 2088.25 227.784 L2092.63 227.784 L2092.63 231.349 L2088.25 231.349 Q2083.32 231.349 2081.45 229.52 Q2079.57 227.668 2079.57 222.807 L2079.57 208.733 L2076.45 208.733 L2076.45 205.423 L2079.57 205.423 L2079.57 198.062 L2083.86 198.062 Z\" fill=\"#000000\" fill-rule=\"evenodd\" fill-opacity=\"1\" /><path clip-path=\"url(#clip970)\" d=\"M 0 0 M2107.88 233.756 Q2106.08 238.386 2104.37 239.798 Q2102.65 241.21 2099.78 241.21 L2096.38 241.21 L2096.38 237.645 L2098.88 237.645 Q2100.64 237.645 2101.61 236.812 Q2102.58 235.978 2103.76 232.876 L2104.53 230.932 L2094.04 205.423 L2098.56 205.423 L2106.66 225.701 L2114.76 205.423 L2119.27 205.423 L2107.88 233.756 Z\" fill=\"#000000\" fill-rule=\"evenodd\" fill-opacity=\"1\" /><polyline clip-path=\"url(#clip970)\" style=\"stroke:#3da44d; stroke-width:4; stroke-opacity:1; fill:none\" points=\"\n",
       "  1781.97,274.549 1929.04,274.549 \n",
       "  \"/>\n",
       "<path clip-path=\"url(#clip970)\" d=\"M 0 0 M1953.56 257.269 L1982.79 257.269 L1982.79 261.204 L1970.52 261.204 L1970.52 291.829 L1965.82 291.829 L1965.82 261.204 L1953.56 261.204 L1953.56 257.269 Z\" fill=\"#000000\" fill-rule=\"evenodd\" fill-opacity=\"1\" /><path clip-path=\"url(#clip970)\" d=\"M 0 0 M2001.38 277.801 L2001.38 279.884 L1981.8 279.884 Q1982.07 284.282 1984.44 286.597 Q1986.82 288.889 1991.06 288.889 Q1993.51 288.889 1995.8 288.287 Q1998.12 287.685 2000.38 286.481 L2000.38 290.509 Q1998.09 291.481 1995.69 291.991 Q1993.28 292.5 1990.8 292.5 Q1984.6 292.5 1980.96 288.889 Q1977.35 285.278 1977.35 279.12 Q1977.35 272.755 1980.78 269.028 Q1984.23 265.278 1990.06 265.278 Q1995.29 265.278 1998.32 268.657 Q2001.38 272.014 2001.38 277.801 M1997.12 276.551 Q1997.07 273.056 1995.15 270.972 Q1993.25 268.889 1990.11 268.889 Q1986.54 268.889 1984.39 270.903 Q1982.26 272.917 1981.94 276.574 L1997.12 276.551 Z\" fill=\"#000000\" fill-rule=\"evenodd\" fill-opacity=\"1\" /><path clip-path=\"url(#clip970)\" d=\"M 0 0 M2026.03 270.88 Q2027.63 268.009 2029.85 266.644 Q2032.07 265.278 2035.08 265.278 Q2039.13 265.278 2041.33 268.125 Q2043.53 270.949 2043.53 276.181 L2043.53 291.829 L2039.25 291.829 L2039.25 276.319 Q2039.25 272.593 2037.93 270.787 Q2036.61 268.982 2033.9 268.982 Q2030.59 268.982 2028.67 271.181 Q2026.75 273.38 2026.75 277.176 L2026.75 291.829 L2022.47 291.829 L2022.47 276.319 Q2022.47 272.569 2021.15 270.787 Q2019.83 268.982 2017.07 268.982 Q2013.81 268.982 2011.89 271.204 Q2009.97 273.403 2009.97 277.176 L2009.97 291.829 L2005.69 291.829 L2005.69 265.903 L2009.97 265.903 L2009.97 269.931 Q2011.43 267.546 2013.46 266.412 Q2015.5 265.278 2018.3 265.278 Q2021.13 265.278 2023.09 266.713 Q2025.08 268.148 2026.03 270.88 Z\" fill=\"#000000\" fill-rule=\"evenodd\" fill-opacity=\"1\" /><path clip-path=\"url(#clip970)\" d=\"M 0 0 M2052.12 287.94 L2052.12 301.69 L2047.84 301.69 L2047.84 265.903 L2052.12 265.903 L2052.12 269.838 Q2053.46 267.523 2055.5 266.412 Q2057.56 265.278 2060.41 265.278 Q2065.13 265.278 2068.07 269.028 Q2071.03 272.778 2071.03 278.889 Q2071.03 285 2068.07 288.75 Q2065.13 292.5 2060.41 292.5 Q2057.56 292.5 2055.5 291.389 Q2053.46 290.255 2052.12 287.94 M2066.61 278.889 Q2066.61 274.19 2064.67 271.528 Q2062.75 268.843 2059.37 268.843 Q2055.99 268.843 2054.04 271.528 Q2052.12 274.19 2052.12 278.889 Q2052.12 283.588 2054.04 286.273 Q2055.99 288.935 2059.37 288.935 Q2062.75 288.935 2064.67 286.273 Q2066.61 283.588 2066.61 278.889 Z\" fill=\"#000000\" fill-rule=\"evenodd\" fill-opacity=\"1\" /><path clip-path=\"url(#clip970)\" d=\"M 0 0 M2097.68 277.801 L2097.68 279.884 L2078.09 279.884 Q2078.37 284.282 2080.73 286.597 Q2083.12 288.889 2087.35 288.889 Q2089.81 288.889 2092.1 288.287 Q2094.41 287.685 2096.68 286.481 L2096.68 290.509 Q2094.39 291.481 2091.98 291.991 Q2089.57 292.5 2087.1 292.5 Q2080.89 292.5 2077.26 288.889 Q2073.65 285.278 2073.65 279.12 Q2073.65 272.755 2077.07 269.028 Q2080.52 265.278 2086.36 265.278 Q2091.59 265.278 2094.62 268.657 Q2097.68 272.014 2097.68 277.801 M2093.42 276.551 Q2093.37 273.056 2091.45 270.972 Q2089.55 268.889 2086.4 268.889 Q2082.84 268.889 2080.68 270.903 Q2078.56 272.917 2078.23 276.574 L2093.42 276.551 Z\" fill=\"#000000\" fill-rule=\"evenodd\" fill-opacity=\"1\" /><path clip-path=\"url(#clip970)\" d=\"M 0 0 M2117.17 269.884 Q2116.45 269.468 2115.59 269.282 Q2114.76 269.074 2113.74 269.074 Q2110.13 269.074 2108.18 271.435 Q2106.26 273.773 2106.26 278.171 L2106.26 291.829 L2101.98 291.829 L2101.98 265.903 L2106.26 265.903 L2106.26 269.931 Q2107.61 267.569 2109.76 266.435 Q2111.91 265.278 2114.99 265.278 Q2115.43 265.278 2115.96 265.347 Q2116.49 265.394 2117.14 265.509 L2117.17 269.884 Z\" fill=\"#000000\" fill-rule=\"evenodd\" fill-opacity=\"1\" /><path clip-path=\"url(#clip970)\" d=\"M 0 0 M2133.42 278.796 Q2128.25 278.796 2126.26 279.977 Q2124.27 281.157 2124.27 284.005 Q2124.27 286.273 2125.75 287.616 Q2127.26 288.935 2129.83 288.935 Q2133.37 288.935 2135.5 286.435 Q2137.65 283.912 2137.65 279.745 L2137.65 278.796 L2133.42 278.796 M2141.91 277.037 L2141.91 291.829 L2137.65 291.829 L2137.65 287.893 Q2136.19 290.255 2134.02 291.389 Q2131.84 292.5 2128.69 292.5 Q2124.71 292.5 2122.35 290.278 Q2120.01 288.032 2120.01 284.282 Q2120.01 279.907 2122.93 277.685 Q2125.87 275.463 2131.68 275.463 L2137.65 275.463 L2137.65 275.046 Q2137.65 272.107 2135.71 270.509 Q2133.79 268.889 2130.29 268.889 Q2128.07 268.889 2125.96 269.421 Q2123.86 269.954 2121.91 271.019 L2121.91 267.083 Q2124.25 266.181 2126.45 265.741 Q2128.65 265.278 2130.73 265.278 Q2136.36 265.278 2139.13 268.194 Q2141.91 271.111 2141.91 277.037 Z\" fill=\"#000000\" fill-rule=\"evenodd\" fill-opacity=\"1\" /><path clip-path=\"url(#clip970)\" d=\"M 0 0 M2150.59 258.542 L2150.59 265.903 L2159.37 265.903 L2159.37 269.213 L2150.59 269.213 L2150.59 283.287 Q2150.59 286.458 2151.45 287.361 Q2152.33 288.264 2154.99 288.264 L2159.37 288.264 L2159.37 291.829 L2154.99 291.829 Q2150.06 291.829 2148.18 290 Q2146.31 288.148 2146.31 283.287 L2146.31 269.213 L2143.18 269.213 L2143.18 265.903 L2146.31 265.903 L2146.31 258.542 L2150.59 258.542 Z\" fill=\"#000000\" fill-rule=\"evenodd\" fill-opacity=\"1\" /><path clip-path=\"url(#clip970)\" d=\"M 0 0 M2163.39 281.597 L2163.39 265.903 L2167.65 265.903 L2167.65 281.435 Q2167.65 285.116 2169.09 286.968 Q2170.52 288.796 2173.39 288.796 Q2176.84 288.796 2178.83 286.597 Q2180.85 284.398 2180.85 280.602 L2180.85 265.903 L2185.11 265.903 L2185.11 291.829 L2180.85 291.829 L2180.85 287.847 Q2179.3 290.208 2177.24 291.366 Q2175.2 292.5 2172.49 292.5 Q2168.02 292.5 2165.71 289.722 Q2163.39 286.944 2163.39 281.597 M2174.11 265.278 L2174.11 265.278 Z\" fill=\"#000000\" fill-rule=\"evenodd\" fill-opacity=\"1\" /><path clip-path=\"url(#clip970)\" d=\"M 0 0 M2204.6 269.884 Q2203.88 269.468 2203.02 269.282 Q2202.19 269.074 2201.17 269.074 Q2197.56 269.074 2195.61 271.435 Q2193.69 273.773 2193.69 278.171 L2193.69 291.829 L2189.41 291.829 L2189.41 265.903 L2193.69 265.903 L2193.69 269.931 Q2195.04 267.569 2197.19 266.435 Q2199.34 265.278 2202.42 265.278 Q2202.86 265.278 2203.39 265.347 Q2203.93 265.394 2204.57 265.509 L2204.6 269.884 Z\" fill=\"#000000\" fill-rule=\"evenodd\" fill-opacity=\"1\" /><path clip-path=\"url(#clip970)\" d=\"M 0 0 M2230.2 277.801 L2230.2 279.884 L2210.61 279.884 Q2210.89 284.282 2213.25 286.597 Q2215.64 288.889 2219.87 288.889 Q2222.33 288.889 2224.62 288.287 Q2226.93 287.685 2229.2 286.481 L2229.2 290.509 Q2226.91 291.481 2224.5 291.991 Q2222.1 292.5 2219.62 292.5 Q2213.42 292.5 2209.78 288.889 Q2206.17 285.278 2206.17 279.12 Q2206.17 272.755 2209.6 269.028 Q2213.05 265.278 2218.88 265.278 Q2224.11 265.278 2227.14 268.657 Q2230.2 272.014 2230.2 277.801 M2225.94 276.551 Q2225.89 273.056 2223.97 270.972 Q2222.07 268.889 2218.92 268.889 Q2215.36 268.889 2213.21 270.903 Q2211.08 272.917 2210.75 276.574 L2225.94 276.551 Z\" fill=\"#000000\" fill-rule=\"evenodd\" fill-opacity=\"1\" /></svg>\n"
      ]
     },
     "metadata": {},
     "output_type": "display_data"
    }
   ],
   "source": [
    "plot_line(ks, ctr)"
   ]
  },
  {
   "cell_type": "code",
   "execution_count": null,
   "metadata": {},
   "outputs": [],
   "source": []
  },
  {
   "cell_type": "code",
   "execution_count": null,
   "metadata": {},
   "outputs": [],
   "source": [
    "@save \"sol_shakhov.jld2\" ks ctr ann res"
   ]
  }
 ],
 "metadata": {
  "kernelspec": {
   "display_name": "Julia 1.4.2",
   "language": "julia",
   "name": "julia-1.4"
  },
  "language_info": {
   "file_extension": ".jl",
   "mimetype": "application/julia",
   "name": "julia",
   "version": "1.4.2"
  }
 },
 "nbformat": 4,
 "nbformat_minor": 4
}
